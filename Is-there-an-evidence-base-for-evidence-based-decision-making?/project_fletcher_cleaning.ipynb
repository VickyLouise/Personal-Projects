{
 "cells": [
  {
   "cell_type": "markdown",
   "metadata": {},
   "source": [
    "### Import Data from CSV\n",
    "\n",
    "The CSV file is made in 'project_fletcher_data_processing'."
   ]
  },
  {
   "cell_type": "code",
   "execution_count": 1,
   "metadata": {},
   "outputs": [
    {
     "data": {
      "text/plain": [
       "'/home/ubuntu/Notebooks'"
      ]
     },
     "execution_count": 1,
     "metadata": {},
     "output_type": "execute_result"
    }
   ],
   "source": [
    "import os\n",
    "os.getcwd()"
   ]
  },
  {
   "cell_type": "code",
   "execution_count": 12,
   "metadata": {},
   "outputs": [],
   "source": [
    "import pandas as pd\n",
    "df_all = pd.read_csv(\"/home/ubuntu/Notebooks/scrapedxml/debates/debates_00_18\")"
   ]
  },
  {
   "cell_type": "code",
   "execution_count": 14,
   "metadata": {},
   "outputs": [
    {
     "data": {
      "text/plain": [
       "(878146, 4)"
      ]
     },
     "execution_count": 14,
     "metadata": {},
     "output_type": "execute_result"
    }
   ],
   "source": [
    "df_all.shape"
   ]
  },
  {
   "cell_type": "code",
   "execution_count": 18,
   "metadata": {},
   "outputs": [
    {
     "data": {
      "text/html": [
       "<div>\n",
       "<style scoped>\n",
       "    .dataframe tbody tr th:only-of-type {\n",
       "        vertical-align: middle;\n",
       "    }\n",
       "\n",
       "    .dataframe tbody tr th {\n",
       "        vertical-align: top;\n",
       "    }\n",
       "\n",
       "    .dataframe thead th {\n",
       "        text-align: right;\n",
       "    }\n",
       "</style>\n",
       "<table border=\"1\" class=\"dataframe\">\n",
       "  <thead>\n",
       "    <tr style=\"text-align: right;\">\n",
       "      <th></th>\n",
       "      <th>MP</th>\n",
       "      <th>date</th>\n",
       "      <th>speech</th>\n",
       "    </tr>\n",
       "  </thead>\n",
       "  <tbody>\n",
       "    <tr>\n",
       "      <th>0</th>\n",
       "      <td>Mr. Mike Gapes</td>\n",
       "      <td>2000-11-22a</td>\n",
       "      <td>If she will make a statement on her Department...</td>\n",
       "    </tr>\n",
       "    <tr>\n",
       "      <th>1</th>\n",
       "      <td>Mr. Mike Gapes</td>\n",
       "      <td>2000-11-22a</td>\n",
       "      <td>Is my right hon. Friend aware that the biggest...</td>\n",
       "    </tr>\n",
       "    <tr>\n",
       "      <th>2</th>\n",
       "      <td>The Parliamentary Under-Secretary of State for...</td>\n",
       "      <td>2000-11-22a</td>\n",
       "      <td>We have responded to a large number of floods ...</td>\n",
       "    </tr>\n",
       "    <tr>\n",
       "      <th>3</th>\n",
       "      <td>The Parliamentary Under-Secretary of State for...</td>\n",
       "      <td>2000-11-22a</td>\n",
       "      <td>Since 1991 we have provided £217 million in hu...</td>\n",
       "    </tr>\n",
       "    <tr>\n",
       "      <th>4</th>\n",
       "      <td>Mr. Gapes</td>\n",
       "      <td>2000-11-22a</td>\n",
       "      <td>I am grateful for that reply. Does it not show...</td>\n",
       "    </tr>\n",
       "  </tbody>\n",
       "</table>\n",
       "</div>"
      ],
      "text/plain": [
       "                                                  MP         date  \\\n",
       "0                                     Mr. Mike Gapes  2000-11-22a   \n",
       "1                                     Mr. Mike Gapes  2000-11-22a   \n",
       "2  The Parliamentary Under-Secretary of State for...  2000-11-22a   \n",
       "3  The Parliamentary Under-Secretary of State for...  2000-11-22a   \n",
       "4                                          Mr. Gapes  2000-11-22a   \n",
       "\n",
       "                                              speech  \n",
       "0  If she will make a statement on her Department...  \n",
       "1  Is my right hon. Friend aware that the biggest...  \n",
       "2  We have responded to a large number of floods ...  \n",
       "3  Since 1991 we have provided £217 million in hu...  \n",
       "4  I am grateful for that reply. Does it not show...  "
      ]
     },
     "execution_count": 18,
     "metadata": {},
     "output_type": "execute_result"
    }
   ],
   "source": [
    "df_all_1 = df_all[['MP','date','speech']]\n",
    "df_all_1.head()"
   ]
  },
  {
   "cell_type": "markdown",
   "metadata": {},
   "source": [
    "I get rid of missing speeches and duplicates."
   ]
  },
  {
   "cell_type": "code",
   "execution_count": 20,
   "metadata": {},
   "outputs": [
    {
     "name": "stdout",
     "output_type": "stream",
     "text": [
      "(823978, 3)\n"
     ]
    },
    {
     "data": {
      "text/html": [
       "<div>\n",
       "<style scoped>\n",
       "    .dataframe tbody tr th:only-of-type {\n",
       "        vertical-align: middle;\n",
       "    }\n",
       "\n",
       "    .dataframe tbody tr th {\n",
       "        vertical-align: top;\n",
       "    }\n",
       "\n",
       "    .dataframe thead th {\n",
       "        text-align: right;\n",
       "    }\n",
       "</style>\n",
       "<table border=\"1\" class=\"dataframe\">\n",
       "  <thead>\n",
       "    <tr style=\"text-align: right;\">\n",
       "      <th></th>\n",
       "      <th>MP</th>\n",
       "      <th>date</th>\n",
       "      <th>speech</th>\n",
       "    </tr>\n",
       "  </thead>\n",
       "  <tbody>\n",
       "    <tr>\n",
       "      <th>0</th>\n",
       "      <td>Mr. Mike Gapes</td>\n",
       "      <td>2000-11-22a</td>\n",
       "      <td>If she will make a statement on her Department...</td>\n",
       "    </tr>\n",
       "    <tr>\n",
       "      <th>1</th>\n",
       "      <td>Mr. Mike Gapes</td>\n",
       "      <td>2000-11-22a</td>\n",
       "      <td>Is my right hon. Friend aware that the biggest...</td>\n",
       "    </tr>\n",
       "    <tr>\n",
       "      <th>2</th>\n",
       "      <td>The Parliamentary Under-Secretary of State for...</td>\n",
       "      <td>2000-11-22a</td>\n",
       "      <td>We have responded to a large number of floods ...</td>\n",
       "    </tr>\n",
       "    <tr>\n",
       "      <th>3</th>\n",
       "      <td>The Parliamentary Under-Secretary of State for...</td>\n",
       "      <td>2000-11-22a</td>\n",
       "      <td>Since 1991 we have provided £217 million in hu...</td>\n",
       "    </tr>\n",
       "    <tr>\n",
       "      <th>4</th>\n",
       "      <td>Mr. Gapes</td>\n",
       "      <td>2000-11-22a</td>\n",
       "      <td>I am grateful for that reply. Does it not show...</td>\n",
       "    </tr>\n",
       "  </tbody>\n",
       "</table>\n",
       "</div>"
      ],
      "text/plain": [
       "                                                  MP         date  \\\n",
       "0                                     Mr. Mike Gapes  2000-11-22a   \n",
       "1                                     Mr. Mike Gapes  2000-11-22a   \n",
       "2  The Parliamentary Under-Secretary of State for...  2000-11-22a   \n",
       "3  The Parliamentary Under-Secretary of State for...  2000-11-22a   \n",
       "4                                          Mr. Gapes  2000-11-22a   \n",
       "\n",
       "                                              speech  \n",
       "0  If she will make a statement on her Department...  \n",
       "1  Is my right hon. Friend aware that the biggest...  \n",
       "2  We have responded to a large number of floods ...  \n",
       "3  Since 1991 we have provided £217 million in hu...  \n",
       "4  I am grateful for that reply. Does it not show...  "
      ]
     },
     "execution_count": 20,
     "metadata": {},
     "output_type": "execute_result"
    }
   ],
   "source": [
    "import numpy as np\n",
    "\n",
    "df_all = df_all[['MP','date','speech']]\n",
    "df_all = df_all[df_all.speech != '']\n",
    "df_all.drop_duplicates(subset = ['speech'], inplace = True)\n",
    "df_all.replace('',np.nan,inplace = True)\n",
    "print(df_all.shape)\n",
    "df_all.head()"
   ]
  },
  {
   "cell_type": "markdown",
   "metadata": {},
   "source": [
    "I convert the date to a datetime object."
   ]
  },
  {
   "cell_type": "code",
   "execution_count": 24,
   "metadata": {},
   "outputs": [
    {
     "data": {
      "text/html": [
       "<div>\n",
       "<style scoped>\n",
       "    .dataframe tbody tr th:only-of-type {\n",
       "        vertical-align: middle;\n",
       "    }\n",
       "\n",
       "    .dataframe tbody tr th {\n",
       "        vertical-align: top;\n",
       "    }\n",
       "\n",
       "    .dataframe thead th {\n",
       "        text-align: right;\n",
       "    }\n",
       "</style>\n",
       "<table border=\"1\" class=\"dataframe\">\n",
       "  <thead>\n",
       "    <tr style=\"text-align: right;\">\n",
       "      <th></th>\n",
       "      <th>MP</th>\n",
       "      <th>date</th>\n",
       "      <th>speech</th>\n",
       "      <th>date_1</th>\n",
       "    </tr>\n",
       "  </thead>\n",
       "  <tbody>\n",
       "    <tr>\n",
       "      <th>0</th>\n",
       "      <td>Mr. Mike Gapes</td>\n",
       "      <td>2000-11-22a</td>\n",
       "      <td>If she will make a statement on her Department...</td>\n",
       "      <td>2000-11-22</td>\n",
       "    </tr>\n",
       "    <tr>\n",
       "      <th>1</th>\n",
       "      <td>Mr. Mike Gapes</td>\n",
       "      <td>2000-11-22a</td>\n",
       "      <td>Is my right hon. Friend aware that the biggest...</td>\n",
       "      <td>2000-11-22</td>\n",
       "    </tr>\n",
       "    <tr>\n",
       "      <th>2</th>\n",
       "      <td>The Parliamentary Under-Secretary of State for...</td>\n",
       "      <td>2000-11-22a</td>\n",
       "      <td>We have responded to a large number of floods ...</td>\n",
       "      <td>2000-11-22</td>\n",
       "    </tr>\n",
       "    <tr>\n",
       "      <th>3</th>\n",
       "      <td>The Parliamentary Under-Secretary of State for...</td>\n",
       "      <td>2000-11-22a</td>\n",
       "      <td>Since 1991 we have provided £217 million in hu...</td>\n",
       "      <td>2000-11-22</td>\n",
       "    </tr>\n",
       "    <tr>\n",
       "      <th>4</th>\n",
       "      <td>Mr. Gapes</td>\n",
       "      <td>2000-11-22a</td>\n",
       "      <td>I am grateful for that reply. Does it not show...</td>\n",
       "      <td>2000-11-22</td>\n",
       "    </tr>\n",
       "  </tbody>\n",
       "</table>\n",
       "</div>"
      ],
      "text/plain": [
       "                                                  MP         date  \\\n",
       "0                                     Mr. Mike Gapes  2000-11-22a   \n",
       "1                                     Mr. Mike Gapes  2000-11-22a   \n",
       "2  The Parliamentary Under-Secretary of State for...  2000-11-22a   \n",
       "3  The Parliamentary Under-Secretary of State for...  2000-11-22a   \n",
       "4                                          Mr. Gapes  2000-11-22a   \n",
       "\n",
       "                                              speech     date_1  \n",
       "0  If she will make a statement on her Department... 2000-11-22  \n",
       "1  Is my right hon. Friend aware that the biggest... 2000-11-22  \n",
       "2  We have responded to a large number of floods ... 2000-11-22  \n",
       "3  Since 1991 we have provided £217 million in hu... 2000-11-22  \n",
       "4  I am grateful for that reply. Does it not show... 2000-11-22  "
      ]
     },
     "execution_count": 24,
     "metadata": {},
     "output_type": "execute_result"
    }
   ],
   "source": [
    "import re\n",
    "df_all['date_1'] = df_all['date'].map(lambda x: re.sub('[a-z]', '', str(x)))\n",
    "df_all['date_1'] = pd.to_datetime(df_all['date_1'], format = \"%Y/%m/%d\")\n",
    "df_all.head()"
   ]
  },
  {
   "cell_type": "markdown",
   "metadata": {},
   "source": [
    "### Adding science documents\n",
    "\n",
    "I need some point of comparison for assessing the 'evidence-basedness' of these speeches. I needed some speech or text which is recognised for being evidence-based and which is publically available. I chose the Royal Institution Christmas Lecture, which aims to increase the public understanding of science and so uses words like 'evidence', 'cause' etc.\n",
    "\n",
    "I import them here. Since the actual speaker is not of interest for each 'science speech', I call them all 'Dr Science'. I later average the similarity score of each MP's speech with each of the Royal Institution speeches and so the body of work acts as a comparator."
   ]
  },
  {
   "cell_type": "code",
   "execution_count": 27,
   "metadata": {},
   "outputs": [],
   "source": [
    "for year in [6,8]:\n",
    "    for no in np.arange(1,6):\n",
    "        science_lec = pd.read_table('RI_lecture{0}_{1}.txt'.format(year,no),names = ['speech'])\n",
    "        science_lecture = (pd.Series(['Dr Science', '', science_lec['speech'],''], \n",
    "                        index=['MP', 'date','speech','date_1']))\n",
    "        df_all = df_all.append(science_lecture, ignore_index=True)"
   ]
  },
  {
   "cell_type": "code",
   "execution_count": 28,
   "metadata": {},
   "outputs": [
    {
     "data": {
      "text/html": [
       "<div>\n",
       "<style scoped>\n",
       "    .dataframe tbody tr th:only-of-type {\n",
       "        vertical-align: middle;\n",
       "    }\n",
       "\n",
       "    .dataframe tbody tr th {\n",
       "        vertical-align: top;\n",
       "    }\n",
       "\n",
       "    .dataframe thead th {\n",
       "        text-align: right;\n",
       "    }\n",
       "</style>\n",
       "<table border=\"1\" class=\"dataframe\">\n",
       "  <thead>\n",
       "    <tr style=\"text-align: right;\">\n",
       "      <th></th>\n",
       "      <th>MP</th>\n",
       "      <th>date</th>\n",
       "      <th>speech</th>\n",
       "      <th>date_1</th>\n",
       "    </tr>\n",
       "  </thead>\n",
       "  <tbody>\n",
       "    <tr>\n",
       "      <th>823983</th>\n",
       "      <td>Dr Science</td>\n",
       "      <td></td>\n",
       "      <td>0    Royal Institution Christmas Lectures Brea...</td>\n",
       "      <td></td>\n",
       "    </tr>\n",
       "    <tr>\n",
       "      <th>823984</th>\n",
       "      <td>Dr Science</td>\n",
       "      <td></td>\n",
       "      <td>0    1 Part 1 Professor Chris Bishop Have you ...</td>\n",
       "      <td></td>\n",
       "    </tr>\n",
       "    <tr>\n",
       "      <th>823985</th>\n",
       "      <td>Dr Science</td>\n",
       "      <td></td>\n",
       "      <td>0    1 Part 1 Professor Chris Bishop Did you k...</td>\n",
       "      <td></td>\n",
       "    </tr>\n",
       "    <tr>\n",
       "      <th>823986</th>\n",
       "      <td>Dr Science</td>\n",
       "      <td></td>\n",
       "      <td>0    Did you know that in the time it takes me...</td>\n",
       "      <td></td>\n",
       "    </tr>\n",
       "    <tr>\n",
       "      <th>823987</th>\n",
       "      <td>Dr Science</td>\n",
       "      <td></td>\n",
       "      <td>0    Have you ever wondered why computers are ...</td>\n",
       "      <td></td>\n",
       "    </tr>\n",
       "  </tbody>\n",
       "</table>\n",
       "</div>"
      ],
      "text/plain": [
       "                MP date                                             speech  \\\n",
       "823983  Dr Science       0    Royal Institution Christmas Lectures Brea...   \n",
       "823984  Dr Science       0    1 Part 1 Professor Chris Bishop Have you ...   \n",
       "823985  Dr Science       0    1 Part 1 Professor Chris Bishop Did you k...   \n",
       "823986  Dr Science       0    Did you know that in the time it takes me...   \n",
       "823987  Dr Science       0    Have you ever wondered why computers are ...   \n",
       "\n",
       "       date_1  \n",
       "823983         \n",
       "823984         \n",
       "823985         \n",
       "823986         \n",
       "823987         "
      ]
     },
     "execution_count": 28,
     "metadata": {},
     "output_type": "execute_result"
    }
   ],
   "source": [
    "df_all.tail()"
   ]
  },
  {
   "cell_type": "markdown",
   "metadata": {},
   "source": [
    "### Adding science words\n",
    "\n",
    "As a baseline model and proof of concept, I created a very simple comparator - a list of words that I associate with people using evidence in their arguments. I tried to do this systematically by looking at key vocabulary in course notes and text books but it ends up being a conglommeration of words which I think are sensible."
   ]
  },
  {
   "cell_type": "code",
   "execution_count": 29,
   "metadata": {},
   "outputs": [],
   "source": [
    "science_words = '''evidence study statistics research data expert \n",
    "                    science clinical trial significant average \n",
    "                    proportion cause probability frequency \n",
    "                    distribution mode ratio sample'''\n",
    "\n",
    "science_words = (pd.Series(['Dr Science', '', science_words, ''], \n",
    "                index=['MP', 'date', 'speech','date_1']))\n",
    "\n",
    "df_all = df_all.append(science_words, ignore_index=True)"
   ]
  },
  {
   "cell_type": "markdown",
   "metadata": {},
   "source": [
    "I think pickle the dataframe which now includes the science document comparators."
   ]
  },
  {
   "cell_type": "code",
   "execution_count": 33,
   "metadata": {},
   "outputs": [],
   "source": [
    "import pickle\n",
    "df_all.to_pickle('df_all_science_docs.pkl')"
   ]
  },
  {
   "cell_type": "code",
   "execution_count": 34,
   "metadata": {},
   "outputs": [],
   "source": [
    "pkl_file = open('df_all_science_docs.pkl', 'rb')\n",
    "df_all_science_docs = pickle.load(pkl_file)"
   ]
  }
 ],
 "metadata": {
  "kernelspec": {
   "display_name": "Python 3",
   "language": "python",
   "name": "python3"
  },
  "language_info": {
   "codemirror_mode": {
    "name": "ipython",
    "version": 3
   },
   "file_extension": ".py",
   "mimetype": "text/x-python",
   "name": "python",
   "nbconvert_exporter": "python",
   "pygments_lexer": "ipython3",
   "version": "3.6.4"
  }
 },
 "nbformat": 4,
 "nbformat_minor": 2
}
