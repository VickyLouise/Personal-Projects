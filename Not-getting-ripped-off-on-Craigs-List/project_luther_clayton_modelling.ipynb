{
 "cells": [
  {
   "cell_type": "code",
   "execution_count": 2,
   "metadata": {},
   "outputs": [],
   "source": [
    "import pandas as pd\n",
    "import numpy as np\n",
    "import matplotlib.pyplot as plt\n",
    "import seaborn as sns\n",
    "sns.set()\n",
    "#import ml_insights as mli\n",
    "\n",
    "# To Plot matplotlib figures inline on the notebook\n",
    "%matplotlib inline\n",
    "\n",
    "from sklearn.model_selection import train_test_split\n",
    "#from sklearn.cross_validation import train_test_split\n",
    "\n",
    "from sklearn.linear_model import LinearRegression, Lasso, LassoCV"
   ]
  },
  {
   "cell_type": "markdown",
   "metadata": {},
   "source": [
    "## Load the Data, Examine and Explore\n",
    "\n",
    "Data was stored in separately csvs for every 100 listings as a precaution during scrapping.\n",
    "\n",
    "I concatenate the csvs into one dataframe."
   ]
  },
  {
   "cell_type": "code",
   "execution_count": 3,
   "metadata": {
    "collapsed": true
   },
   "outputs": [],
   "source": [
    "df_list = []\n",
    "for csv in np.arange(100,65300,100):\n",
    "    df_ind = pd.read_csv(\"/Users/vickyclayton/Google Drive/Documents/Of interest/Data Science/Bootcamp/Metis/metisgh/Class Lectures/Week 2/Craigs_list_{0}.csv\".format(csv))\n",
    "    df_list.append(df_ind)\n",
    "df_cat = pd.concat(df_list, ignore_index = True)"
   ]
  },
  {
   "cell_type": "code",
   "execution_count": 4,
   "metadata": {},
   "outputs": [
    {
     "name": "stdout",
     "output_type": "stream",
     "text": [
      "<class 'pandas.core.frame.DataFrame'>\n",
      "RangeIndex: 65200 entries, 0 to 65199\n",
      "Data columns (total 22 columns):\n",
      "<b>2005_Prerunner_trd:            1 non-null object\n",
      "<b>2013_Hyundai_Elantra_(Stk_#    1 non-null object\n",
      "<b>2017_Volkswagen_Golf__GTI_S    1 non-null object\n",
      "URL                               65200 non-null object\n",
      "Unnamed: 0                        65200 non-null int64\n",
      "VIN                               18315 non-null object\n",
      "VIN:_<b>                          1 non-null object\n",
      "VIN:_<b>Ctrjjv2568                1 non-null object\n",
      "VIN:_<b>VIN                       2 non-null object\n",
      "VIN:_<b>Vin#                      1 non-null object\n",
      "condition                         38102 non-null object\n",
      "cylinders                         38718 non-null object\n",
      "disabled                          65200 non-null object\n",
      "drive                             35861 non-null object\n",
      "fuel                              64890 non-null object\n",
      "odometer                          42681 non-null object\n",
      "paint_color                       36928 non-null object\n",
      "size                              21210 non-null object\n",
      "title                             65197 non-null object\n",
      "title_status                      65188 non-null object\n",
      "transmission                      64783 non-null object\n",
      "type                              33788 non-null object\n",
      "dtypes: int64(1), object(21)\n",
      "memory usage: 10.9+ MB\n"
     ]
    }
   ],
   "source": [
    "df_cat.info()"
   ]
  },
  {
   "cell_type": "markdown",
   "metadata": {},
   "source": [
    "Pricing data was stored separately (I forgot to scrape it initially!) So I merge the dataframes here."
   ]
  },
  {
   "cell_type": "code",
   "execution_count": 5,
   "metadata": {
    "collapsed": true
   },
   "outputs": [],
   "source": [
    "df_price_list = []\n",
    "for csv in np.arange(100,80800,100):\n",
    "    df_ind = pd.read_csv(\"/Users/vickyclayton/Google Drive/Documents/Of interest/Data Science/Bootcamp/Metis/metisgh/Class Lectures/Week 2/Craigs_list_price_{0}.csv\".format(csv))\n",
    "    df_price_list.append(df_ind)\n",
    "df_price = pd.concat(df_price_list, ignore_index = True)"
   ]
  },
  {
   "cell_type": "code",
   "execution_count": 6,
   "metadata": {},
   "outputs": [
    {
     "name": "stdout",
     "output_type": "stream",
     "text": [
      "<class 'pandas.core.frame.DataFrame'>\n",
      "RangeIndex: 80700 entries, 0 to 80699\n",
      "Data columns (total 3 columns):\n",
      "Unnamed: 0    80700 non-null int64\n",
      "Price         80700 non-null object\n",
      "URL           80700 non-null object\n",
      "dtypes: int64(1), object(2)\n",
      "memory usage: 1.8+ MB\n"
     ]
    }
   ],
   "source": [
    "df_price.info()"
   ]
  },
  {
   "cell_type": "code",
   "execution_count": 7,
   "metadata": {},
   "outputs": [
    {
     "data": {
      "text/html": [
       "<div>\n",
       "<style scoped>\n",
       "    .dataframe tbody tr th:only-of-type {\n",
       "        vertical-align: middle;\n",
       "    }\n",
       "\n",
       "    .dataframe tbody tr th {\n",
       "        vertical-align: top;\n",
       "    }\n",
       "\n",
       "    .dataframe thead th {\n",
       "        text-align: right;\n",
       "    }\n",
       "</style>\n",
       "<table border=\"1\" class=\"dataframe\">\n",
       "  <thead>\n",
       "    <tr style=\"text-align: right;\">\n",
       "      <th></th>\n",
       "      <th>Unnamed: 0</th>\n",
       "      <th>Price</th>\n",
       "      <th>URL</th>\n",
       "    </tr>\n",
       "  </thead>\n",
       "  <tbody>\n",
       "    <tr>\n",
       "      <th>0</th>\n",
       "      <td>0</td>\n",
       "      <td>$2500</td>\n",
       "      <td>https://modesto.craigslist.org/cto/d/2004-mits...</td>\n",
       "    </tr>\n",
       "    <tr>\n",
       "      <th>1</th>\n",
       "      <td>1</td>\n",
       "      <td>$5300</td>\n",
       "      <td>https://sfbay.craigslist.org/eby/cto/d/2004-ho...</td>\n",
       "    </tr>\n",
       "    <tr>\n",
       "      <th>2</th>\n",
       "      <td>2</td>\n",
       "      <td>$13500</td>\n",
       "      <td>https://tuscaloosa.craigslist.org/cto/d/2002-g...</td>\n",
       "    </tr>\n",
       "    <tr>\n",
       "      <th>3</th>\n",
       "      <td>3</td>\n",
       "      <td>$10800</td>\n",
       "      <td>https://mohave.craigslist.org/cto/d/gmc-acadia...</td>\n",
       "    </tr>\n",
       "    <tr>\n",
       "      <th>4</th>\n",
       "      <td>4</td>\n",
       "      <td>$6200</td>\n",
       "      <td>https://bakersfield.craigslist.org/cto/d/2002-...</td>\n",
       "    </tr>\n",
       "  </tbody>\n",
       "</table>\n",
       "</div>"
      ],
      "text/plain": [
       "   Unnamed: 0   Price                                                URL\n",
       "0           0   $2500  https://modesto.craigslist.org/cto/d/2004-mits...\n",
       "1           1   $5300  https://sfbay.craigslist.org/eby/cto/d/2004-ho...\n",
       "2           2  $13500  https://tuscaloosa.craigslist.org/cto/d/2002-g...\n",
       "3           3  $10800  https://mohave.craigslist.org/cto/d/gmc-acadia...\n",
       "4           4   $6200  https://bakersfield.craigslist.org/cto/d/2002-..."
      ]
     },
     "execution_count": 7,
     "metadata": {},
     "output_type": "execute_result"
    }
   ],
   "source": [
    "df_price.head()"
   ]
  },
  {
   "cell_type": "code",
   "execution_count": 8,
   "metadata": {},
   "outputs": [
    {
     "name": "stdout",
     "output_type": "stream",
     "text": [
      "<class 'pandas.core.frame.DataFrame'>\n",
      "Int64Index: 67367 entries, 0 to 67366\n",
      "Data columns (total 24 columns):\n",
      "<b>2005_Prerunner_trd:            1 non-null object\n",
      "<b>2013_Hyundai_Elantra_(Stk_#    1 non-null object\n",
      "<b>2017_Volkswagen_Golf__GTI_S    1 non-null object\n",
      "URL                               67367 non-null object\n",
      "Unnamed: 0_x                      67367 non-null int64\n",
      "VIN                               19493 non-null object\n",
      "VIN:_<b>                          1 non-null object\n",
      "VIN:_<b>Ctrjjv2568                1 non-null object\n",
      "VIN:_<b>VIN                       2 non-null object\n",
      "VIN:_<b>Vin#                      0 non-null object\n",
      "condition                         39193 non-null object\n",
      "cylinders                         39939 non-null object\n",
      "disabled                          67367 non-null object\n",
      "drive                             37287 non-null object\n",
      "fuel                              67032 non-null object\n",
      "odometer                          44238 non-null object\n",
      "paint_color                       38486 non-null object\n",
      "size                              21896 non-null object\n",
      "title                             67364 non-null object\n",
      "title_status                      67352 non-null object\n",
      "transmission                      66935 non-null object\n",
      "type                              35272 non-null object\n",
      "Unnamed: 0_y                      67367 non-null int64\n",
      "Price                             67367 non-null object\n",
      "dtypes: int64(2), object(22)\n",
      "memory usage: 12.8+ MB\n"
     ]
    }
   ],
   "source": [
    "df_cg_j = pd.merge(df_cat, df_price, on='URL')\n",
    "df_cg_j.info()"
   ]
  },
  {
   "cell_type": "code",
   "execution_count": 9,
   "metadata": {},
   "outputs": [
    {
     "data": {
      "text/html": [
       "<div>\n",
       "<style scoped>\n",
       "    .dataframe tbody tr th:only-of-type {\n",
       "        vertical-align: middle;\n",
       "    }\n",
       "\n",
       "    .dataframe tbody tr th {\n",
       "        vertical-align: top;\n",
       "    }\n",
       "\n",
       "    .dataframe thead th {\n",
       "        text-align: right;\n",
       "    }\n",
       "</style>\n",
       "<table border=\"1\" class=\"dataframe\">\n",
       "  <thead>\n",
       "    <tr style=\"text-align: right;\">\n",
       "      <th></th>\n",
       "      <th>&lt;b&gt;2005_Prerunner_trd:</th>\n",
       "      <th>&lt;b&gt;2013_Hyundai_Elantra_(Stk_#</th>\n",
       "      <th>&lt;b&gt;2017_Volkswagen_Golf__GTI_S</th>\n",
       "      <th>URL</th>\n",
       "      <th>Unnamed: 0_x</th>\n",
       "      <th>VIN</th>\n",
       "      <th>VIN:_&lt;b&gt;</th>\n",
       "      <th>VIN:_&lt;b&gt;Ctrjjv2568</th>\n",
       "      <th>VIN:_&lt;b&gt;VIN</th>\n",
       "      <th>VIN:_&lt;b&gt;Vin#</th>\n",
       "      <th>...</th>\n",
       "      <th>fuel</th>\n",
       "      <th>odometer</th>\n",
       "      <th>paint_color</th>\n",
       "      <th>size</th>\n",
       "      <th>title</th>\n",
       "      <th>title_status</th>\n",
       "      <th>transmission</th>\n",
       "      <th>type</th>\n",
       "      <th>Unnamed: 0_y</th>\n",
       "      <th>Price</th>\n",
       "    </tr>\n",
       "  </thead>\n",
       "  <tbody>\n",
       "    <tr>\n",
       "      <th>0</th>\n",
       "      <td>NaN</td>\n",
       "      <td>NaN</td>\n",
       "      <td>NaN</td>\n",
       "      <td>https://modesto.craigslist.org/cto/d/2004-mits...</td>\n",
       "      <td>0</td>\n",
       "      <td>NaN</td>\n",
       "      <td>NaN</td>\n",
       "      <td>NaN</td>\n",
       "      <td>NaN</td>\n",
       "      <td>NaN</td>\n",
       "      <td>...</td>\n",
       "      <td>gas</td>\n",
       "      <td>NaN</td>\n",
       "      <td>silver</td>\n",
       "      <td>NaN</td>\n",
       "      <td>2004_mitsubishi_diamante</td>\n",
       "      <td>clean</td>\n",
       "      <td>automatic</td>\n",
       "      <td>NaN</td>\n",
       "      <td>0</td>\n",
       "      <td>$2500</td>\n",
       "    </tr>\n",
       "    <tr>\n",
       "      <th>1</th>\n",
       "      <td>NaN</td>\n",
       "      <td>NaN</td>\n",
       "      <td>NaN</td>\n",
       "      <td>https://sfbay.craigslist.org/eby/cto/d/2004-ho...</td>\n",
       "      <td>1</td>\n",
       "      <td>NaN</td>\n",
       "      <td>NaN</td>\n",
       "      <td>NaN</td>\n",
       "      <td>NaN</td>\n",
       "      <td>NaN</td>\n",
       "      <td>...</td>\n",
       "      <td>gas</td>\n",
       "      <td>125000</td>\n",
       "      <td>grey</td>\n",
       "      <td>full-size</td>\n",
       "      <td>2004_Honda_Accord_ex</td>\n",
       "      <td>clean</td>\n",
       "      <td>manual</td>\n",
       "      <td>sedan</td>\n",
       "      <td>1</td>\n",
       "      <td>$5300</td>\n",
       "    </tr>\n",
       "    <tr>\n",
       "      <th>2</th>\n",
       "      <td>NaN</td>\n",
       "      <td>NaN</td>\n",
       "      <td>NaN</td>\n",
       "      <td>https://tuscaloosa.craigslist.org/cto/d/2002-g...</td>\n",
       "      <td>2</td>\n",
       "      <td>NaN</td>\n",
       "      <td>NaN</td>\n",
       "      <td>NaN</td>\n",
       "      <td>NaN</td>\n",
       "      <td>NaN</td>\n",
       "      <td>...</td>\n",
       "      <td>gas</td>\n",
       "      <td>163000</td>\n",
       "      <td>NaN</td>\n",
       "      <td>NaN</td>\n",
       "      <td>2002_GMC_1500_HD</td>\n",
       "      <td>clean</td>\n",
       "      <td>automatic</td>\n",
       "      <td>NaN</td>\n",
       "      <td>2</td>\n",
       "      <td>$13500</td>\n",
       "    </tr>\n",
       "    <tr>\n",
       "      <th>3</th>\n",
       "      <td>NaN</td>\n",
       "      <td>NaN</td>\n",
       "      <td>NaN</td>\n",
       "      <td>https://mohave.craigslist.org/cto/d/gmc-acadia...</td>\n",
       "      <td>3</td>\n",
       "      <td>NaN</td>\n",
       "      <td>NaN</td>\n",
       "      <td>NaN</td>\n",
       "      <td>NaN</td>\n",
       "      <td>NaN</td>\n",
       "      <td>...</td>\n",
       "      <td>gas</td>\n",
       "      <td>118000</td>\n",
       "      <td>silver</td>\n",
       "      <td>NaN</td>\n",
       "      <td>2011_acadia_gmc</td>\n",
       "      <td>clean</td>\n",
       "      <td>automatic</td>\n",
       "      <td>SUV</td>\n",
       "      <td>3</td>\n",
       "      <td>$10800</td>\n",
       "    </tr>\n",
       "    <tr>\n",
       "      <th>4</th>\n",
       "      <td>NaN</td>\n",
       "      <td>NaN</td>\n",
       "      <td>NaN</td>\n",
       "      <td>https://bakersfield.craigslist.org/cto/d/2002-...</td>\n",
       "      <td>4</td>\n",
       "      <td>NaN</td>\n",
       "      <td>NaN</td>\n",
       "      <td>NaN</td>\n",
       "      <td>NaN</td>\n",
       "      <td>NaN</td>\n",
       "      <td>...</td>\n",
       "      <td>gas</td>\n",
       "      <td>NaN</td>\n",
       "      <td>NaN</td>\n",
       "      <td>NaN</td>\n",
       "      <td>2002_Toyota</td>\n",
       "      <td>clean</td>\n",
       "      <td>automatic</td>\n",
       "      <td>NaN</td>\n",
       "      <td>4</td>\n",
       "      <td>$6200</td>\n",
       "    </tr>\n",
       "  </tbody>\n",
       "</table>\n",
       "<p>5 rows × 24 columns</p>\n",
       "</div>"
      ],
      "text/plain": [
       "  <b>2005_Prerunner_trd: <b>2013_Hyundai_Elantra_(Stk_#  \\\n",
       "0                    NaN                            NaN   \n",
       "1                    NaN                            NaN   \n",
       "2                    NaN                            NaN   \n",
       "3                    NaN                            NaN   \n",
       "4                    NaN                            NaN   \n",
       "\n",
       "  <b>2017_Volkswagen_Golf__GTI_S  \\\n",
       "0                            NaN   \n",
       "1                            NaN   \n",
       "2                            NaN   \n",
       "3                            NaN   \n",
       "4                            NaN   \n",
       "\n",
       "                                                 URL  Unnamed: 0_x  VIN  \\\n",
       "0  https://modesto.craigslist.org/cto/d/2004-mits...             0  NaN   \n",
       "1  https://sfbay.craigslist.org/eby/cto/d/2004-ho...             1  NaN   \n",
       "2  https://tuscaloosa.craigslist.org/cto/d/2002-g...             2  NaN   \n",
       "3  https://mohave.craigslist.org/cto/d/gmc-acadia...             3  NaN   \n",
       "4  https://bakersfield.craigslist.org/cto/d/2002-...             4  NaN   \n",
       "\n",
       "  VIN:_<b> VIN:_<b>Ctrjjv2568 VIN:_<b>VIN VIN:_<b>Vin#   ...   fuel odometer  \\\n",
       "0      NaN                NaN         NaN          NaN   ...    gas      NaN   \n",
       "1      NaN                NaN         NaN          NaN   ...    gas   125000   \n",
       "2      NaN                NaN         NaN          NaN   ...    gas   163000   \n",
       "3      NaN                NaN         NaN          NaN   ...    gas   118000   \n",
       "4      NaN                NaN         NaN          NaN   ...    gas      NaN   \n",
       "\n",
       "  paint_color       size                     title title_status transmission  \\\n",
       "0      silver        NaN  2004_mitsubishi_diamante        clean    automatic   \n",
       "1        grey  full-size      2004_Honda_Accord_ex        clean       manual   \n",
       "2         NaN        NaN          2002_GMC_1500_HD        clean    automatic   \n",
       "3      silver        NaN           2011_acadia_gmc        clean    automatic   \n",
       "4         NaN        NaN               2002_Toyota        clean    automatic   \n",
       "\n",
       "    type Unnamed: 0_y   Price  \n",
       "0    NaN            0   $2500  \n",
       "1  sedan            1   $5300  \n",
       "2    NaN            2  $13500  \n",
       "3    SUV            3  $10800  \n",
       "4    NaN            4   $6200  \n",
       "\n",
       "[5 rows x 24 columns]"
      ]
     },
     "execution_count": 9,
     "metadata": {},
     "output_type": "execute_result"
    }
   ],
   "source": [
    "df_cg_j.head()"
   ]
  },
  {
   "cell_type": "markdown",
   "metadata": {},
   "source": [
    "I scrape data from 2 websites - Craigs List ('cg') and a specialist accessible vehicle company ('wh'). They list different features and so some of the cleaning is done separately. 'J' indicates the features shared between the two datasets."
   ]
  },
  {
   "cell_type": "code",
   "execution_count": 10,
   "metadata": {},
   "outputs": [
    {
     "data": {
      "text/plain": [
       "\"\\ndf.columns\\ndf_wh = (df[['URL', 'VIN','condition', 'cylinders',\\n       'disabled', 'drive', 'fuel', 'odometer', 'paint_color', 'size', 'title',\\n       'title_status', 'transmission', 'type', 'Price']])\\ndf_cg = (df[['condition', 'cylinders',\\n       'disabled', 'drive', 'fuel', 'odometer', 'paint_color', 'size', 'title',\\n       'title_status', 'transmission', 'type', 'Price']])\\ndf_cg_j = (df[['URL','paint_color','odometer','title','title_status',\\n             'type', 'cylinders','condition', 'Price']])\\n\""
      ]
     },
     "execution_count": 10,
     "metadata": {},
     "output_type": "execute_result"
    }
   ],
   "source": [
    "'''\n",
    "df.columns\n",
    "df_wh = (df[['URL', 'VIN','condition', 'cylinders',\n",
    "       'disabled', 'drive', 'fuel', 'odometer', 'paint_color', 'size', 'title',\n",
    "       'title_status', 'transmission', 'type', 'Price']])\n",
    "df_cg = (df[['condition', 'cylinders',\n",
    "       'disabled', 'drive', 'fuel', 'odometer', 'paint_color', 'size', 'title',\n",
    "       'title_status', 'transmission', 'type', 'Price']])\n",
    "df_cg_j = (df[['URL','paint_color','odometer','title','title_status',\n",
    "             'type', 'cylinders','condition', 'Price']])\n",
    "'''"
   ]
  },
  {
   "cell_type": "markdown",
   "metadata": {},
   "source": [
    "Extracting the cylinder number"
   ]
  },
  {
   "cell_type": "code",
   "execution_count": 11,
   "metadata": {
    "scrolled": true
   },
   "outputs": [
    {
     "name": "stdout",
     "output_type": "stream",
     "text": [
      "6_cylinders     13175\n",
      "8_cylinders     12555\n",
      "4_cylinders     11652\n",
      "other            1213\n",
      "5_cylinders       412\n",
      "10_cylinders      206\n",
      "4wd               176\n",
      "fwd               157\n",
      "rwd               152\n",
      "gas               119\n",
      "3_cylinders        72\n",
      "12_cylinders       47\n",
      "diesel              3\n",
      "Name: cylinders, dtype: int64\n"
     ]
    },
    {
     "data": {
      "text/plain": [
       "6.0     13175\n",
       "8.0     12555\n",
       "4.0     11652\n",
       "5.0       412\n",
       "10.0      206\n",
       "3.0        72\n",
       "12.0       47\n",
       "Name: cylinders_no, dtype: int64"
      ]
     },
     "execution_count": 11,
     "metadata": {},
     "output_type": "execute_result"
    }
   ],
   "source": [
    "import re\n",
    "print(df_cg_j.cylinders.value_counts())\n",
    "cylinders_no = [re.search('([0-9]+)(_cylinders)', str(x)) for x in df_cg_j['cylinders']]\n",
    "cylinders_no\n",
    "cylinders_no_2 = []\n",
    "for x in cylinders_no:\n",
    "    try:\n",
    "        cylinders_no_2.append(int(x.group(1)))\n",
    "    except:\n",
    "        cylinders_no_2.append(None)\n",
    "df_cg_j['cylinders_no'] = cylinders_no_2\n",
    "df_cg_j['cylinders_no'].value_counts()"
   ]
  },
  {
   "cell_type": "markdown",
   "metadata": {},
   "source": [
    "I was interested in being able to predict the price of cars that are actually drive-able and so I discard those marked as 'salvage'."
   ]
  },
  {
   "cell_type": "code",
   "execution_count": 12,
   "metadata": {},
   "outputs": [
    {
     "name": "stdout",
     "output_type": "stream",
     "text": [
      "excellent    16781\n",
      "good         13554\n",
      "like_new      5337\n",
      "fair          2692\n",
      "new            475\n",
      "salvage        354\n",
      "Name: condition, dtype: int64\n",
      "0    67013\n",
      "Name: salvage, dtype: int64\n"
     ]
    }
   ],
   "source": [
    "print(df_cg_j.condition.value_counts())\n",
    "condition_dummies = pd.get_dummies(df_cg_j['condition'])\n",
    "df_cg_j = pd.concat([df_cg_j, condition_dummies], axis=1)\n",
    "\n",
    "# Get rid of salvage\n",
    "df_cg_j.drop(df_cg_j[df_cg_j['salvage']==1].index, inplace = True)\n",
    "print(df_cg_j['salvage'].value_counts())\n",
    "df_cg_j.drop(['salvage'],axis = 1, inplace = True)"
   ]
  },
  {
   "cell_type": "markdown",
   "metadata": {},
   "source": [
    "I create dummies for the type of car."
   ]
  },
  {
   "cell_type": "code",
   "execution_count": 13,
   "metadata": {},
   "outputs": [
    {
     "name": "stdout",
     "output_type": "stream",
     "text": [
      "sedan          9540\n",
      "SUV            7628\n",
      "truck          4730\n",
      "pickup         4102\n",
      "coupe          2874\n",
      "hatchback      1320\n",
      "convertible    1306\n",
      "van             926\n",
      "other           776\n",
      "mini-van        728\n",
      "wagon           672\n",
      "offroad         363\n",
      "bus              63\n",
      "Name: type, dtype: int64\n",
      "<class 'pandas.core.frame.DataFrame'>\n",
      "Int64Index: 67013 entries, 0 to 67366\n",
      "Data columns (total 43 columns):\n",
      "<b>2005_Prerunner_trd:            1 non-null object\n",
      "<b>2013_Hyundai_Elantra_(Stk_#    1 non-null object\n",
      "<b>2017_Volkswagen_Golf__GTI_S    1 non-null object\n",
      "URL                               67013 non-null object\n",
      "Unnamed: 0_x                      67013 non-null int64\n",
      "VIN                               19430 non-null object\n",
      "VIN:_<b>                          1 non-null object\n",
      "VIN:_<b>Ctrjjv2568                1 non-null object\n",
      "VIN:_<b>VIN                       2 non-null object\n",
      "VIN:_<b>Vin#                      0 non-null object\n",
      "condition                         38839 non-null object\n",
      "cylinders                         39644 non-null object\n",
      "disabled                          67013 non-null object\n",
      "drive                             37038 non-null object\n",
      "fuel                              66678 non-null object\n",
      "odometer                          44002 non-null object\n",
      "paint_color                       38202 non-null object\n",
      "size                              21682 non-null object\n",
      "title                             67010 non-null object\n",
      "title_status                      66998 non-null object\n",
      "transmission                      66581 non-null object\n",
      "type                              35028 non-null object\n",
      "Unnamed: 0_y                      67013 non-null int64\n",
      "Price                             67013 non-null object\n",
      "cylinders_no                      37834 non-null float64\n",
      "excellent                         67013 non-null uint8\n",
      "fair                              67013 non-null uint8\n",
      "good                              67013 non-null uint8\n",
      "like_new                          67013 non-null uint8\n",
      "new                               67013 non-null uint8\n",
      "SUV                               67013 non-null uint8\n",
      "bus                               67013 non-null uint8\n",
      "convertible                       67013 non-null uint8\n",
      "coupe                             67013 non-null uint8\n",
      "hatchback                         67013 non-null uint8\n",
      "mini-van                          67013 non-null uint8\n",
      "offroad                           67013 non-null uint8\n",
      "other                             67013 non-null uint8\n",
      "pickup                            67013 non-null uint8\n",
      "sedan                             67013 non-null uint8\n",
      "truck                             67013 non-null uint8\n",
      "van                               67013 non-null uint8\n",
      "wagon                             67013 non-null uint8\n",
      "dtypes: float64(1), int64(2), object(22), uint8(18)\n",
      "memory usage: 14.4+ MB\n"
     ]
    }
   ],
   "source": [
    "print(df_cg_j['type'].value_counts())\n",
    "type_dummies = pd.get_dummies(df_cg_j['type'])\n",
    "df_cg_j = pd.concat([df_cg_j, type_dummies], axis=1)\n",
    "df_cg_j.info()"
   ]
  },
  {
   "cell_type": "markdown",
   "metadata": {},
   "source": [
    "I drop sedans, coupes, hatchbacks and convertibles becuase these cars are not very comparable to accessible vehicles (which is what I'm interested in)."
   ]
  },
  {
   "cell_type": "code",
   "execution_count": 14,
   "metadata": {
    "collapsed": true
   },
   "outputs": [],
   "source": [
    "cars_bad = ['sedan','coupe','hatchback','convertible']\n",
    "df_cg_j.drop(cars_bad,axis=1, inplace = True)"
   ]
  },
  {
   "cell_type": "markdown",
   "metadata": {},
   "source": [
    "I create dummies for the type of fuel, and restrict it to actual types of fuel (there is little quality control on what people enter into these categories on Craig's List)."
   ]
  },
  {
   "cell_type": "code",
   "execution_count": 15,
   "metadata": {},
   "outputs": [
    {
     "name": "stdout",
     "output_type": "stream",
     "text": [
      "<class 'pandas.core.frame.DataFrame'>\n",
      "Int64Index: 67013 entries, 0 to 67366\n",
      "Data columns (total 43 columns):\n",
      "<b>2005_Prerunner_trd:            1 non-null object\n",
      "<b>2013_Hyundai_Elantra_(Stk_#    1 non-null object\n",
      "<b>2017_Volkswagen_Golf__GTI_S    1 non-null object\n",
      "URL                               67013 non-null object\n",
      "Unnamed: 0_x                      67013 non-null int64\n",
      "VIN                               19430 non-null object\n",
      "VIN:_<b>                          1 non-null object\n",
      "VIN:_<b>Ctrjjv2568                1 non-null object\n",
      "VIN:_<b>VIN                       2 non-null object\n",
      "VIN:_<b>Vin#                      0 non-null object\n",
      "condition                         38839 non-null object\n",
      "cylinders                         39644 non-null object\n",
      "disabled                          67013 non-null object\n",
      "drive                             36541 non-null object\n",
      "fuel                              66678 non-null object\n",
      "odometer                          44002 non-null object\n",
      "paint_color                       38202 non-null object\n",
      "size                              21682 non-null object\n",
      "title                             67010 non-null object\n",
      "title_status                      66998 non-null object\n",
      "transmission                      66581 non-null object\n",
      "type                              35028 non-null object\n",
      "Unnamed: 0_y                      67013 non-null int64\n",
      "Price                             67013 non-null object\n",
      "cylinders_no                      37834 non-null float64\n",
      "excellent                         67013 non-null uint8\n",
      "fair                              67013 non-null uint8\n",
      "good                              67013 non-null uint8\n",
      "like_new                          67013 non-null uint8\n",
      "new                               67013 non-null uint8\n",
      "SUV                               67013 non-null uint8\n",
      "bus                               67013 non-null uint8\n",
      "mini-van                          67013 non-null uint8\n",
      "offroad                           67013 non-null uint8\n",
      "other                             67013 non-null uint8\n",
      "pickup                            67013 non-null uint8\n",
      "truck                             67013 non-null uint8\n",
      "van                               67013 non-null uint8\n",
      "wagon                             67013 non-null uint8\n",
      "4wd                               67013 non-null uint8\n",
      "fwd                               67013 non-null uint8\n",
      "hybrid                            67013 non-null uint8\n",
      "rwd                               67013 non-null uint8\n",
      "dtypes: float64(1), int64(2), object(22), uint8(18)\n",
      "memory usage: 14.4+ MB\n"
     ]
    }
   ],
   "source": [
    "df_cg_j['drive'] = df_cg_j['drive'].replace('diesel',np.NaN)\n",
    "df_cg_j['drive'] = df_cg_j['drive'].replace('gas',np.NaN)\n",
    "df_cg_j['drive'] = df_cg_j['drive'].replace('electric',np.NaN)\n",
    "drive_dummies = pd.get_dummies(df_cg_j['drive'])\n",
    "df_cg_j = pd.concat([df_cg_j, drive_dummies], axis=1)\n",
    "df_cg_j.info()"
   ]
  },
  {
   "cell_type": "code",
   "execution_count": 16,
   "metadata": {},
   "outputs": [
    {
     "name": "stdout",
     "output_type": "stream",
     "text": [
      "gas         59101\n",
      "diesel       4203\n",
      "other        1914\n",
      "hybrid        548\n",
      "electric      142\n",
      "clean          59\n",
      "silver         30\n",
      "black          26\n",
      "white          24\n",
      "grey           19\n",
      "blue           13\n",
      "68000           9\n",
      "red             9\n",
      "200000          8\n",
      "170000          7\n",
      "120000          7\n",
      "135000          7\n",
      "140000          6\n",
      "89000           6\n",
      "180000          6\n",
      "86000           6\n",
      "130000          6\n",
      "79000           6\n",
      "175000          5\n",
      "missing         5\n",
      "121000          5\n",
      "100000          5\n",
      "custom          5\n",
      "230000          5\n",
      "150000          5\n",
      "            ...  \n",
      "122000          1\n",
      "87000           1\n",
      "151785          1\n",
      "61271           1\n",
      "77000           1\n",
      "52200           1\n",
      "93432           1\n",
      "250000          1\n",
      "purple          1\n",
      "220549          1\n",
      "137500          1\n",
      "32455           1\n",
      "73834           1\n",
      "78123           1\n",
      "89266           1\n",
      "54504           1\n",
      "220496          1\n",
      "34000           1\n",
      "172433          1\n",
      "141000          1\n",
      "143074          1\n",
      "83382           1\n",
      "184888          1\n",
      "173152          1\n",
      "254000          1\n",
      "105             1\n",
      "112139          1\n",
      "61353           1\n",
      "154000          1\n",
      "218000          1\n",
      "Name: fuel, Length: 357, dtype: int64\n",
      "<class 'pandas.core.frame.DataFrame'>\n",
      "Int64Index: 67013 entries, 0 to 67366\n",
      "Data columns (total 49 columns):\n",
      "<b>2005_Prerunner_trd:            1 non-null object\n",
      "<b>2013_Hyundai_Elantra_(Stk_#    1 non-null object\n",
      "<b>2017_Volkswagen_Golf__GTI_S    1 non-null object\n",
      "URL                               67013 non-null object\n",
      "Unnamed: 0_x                      67013 non-null int64\n",
      "VIN                               19430 non-null object\n",
      "VIN:_<b>                          1 non-null object\n",
      "VIN:_<b>Ctrjjv2568                1 non-null object\n",
      "VIN:_<b>VIN                       2 non-null object\n",
      "VIN:_<b>Vin#                      0 non-null object\n",
      "condition                         38839 non-null object\n",
      "cylinders                         39644 non-null object\n",
      "disabled                          67013 non-null object\n",
      "drive                             36541 non-null object\n",
      "fuel                              65967 non-null object\n",
      "odometer                          44002 non-null object\n",
      "paint_color                       38202 non-null object\n",
      "size                              21682 non-null object\n",
      "title                             67010 non-null object\n",
      "title_status                      66998 non-null object\n",
      "transmission                      66581 non-null object\n",
      "type                              35028 non-null object\n",
      "Unnamed: 0_y                      67013 non-null int64\n",
      "Price                             67013 non-null object\n",
      "cylinders_no                      37834 non-null float64\n",
      "excellent                         67013 non-null uint8\n",
      "fair                              67013 non-null uint8\n",
      "good                              67013 non-null uint8\n",
      "like_new                          67013 non-null uint8\n",
      "new                               67013 non-null uint8\n",
      "SUV                               67013 non-null uint8\n",
      "bus                               67013 non-null uint8\n",
      "mini-van                          67013 non-null uint8\n",
      "offroad                           67013 non-null uint8\n",
      "other                             67013 non-null uint8\n",
      "pickup                            67013 non-null uint8\n",
      "truck                             67013 non-null uint8\n",
      "van                               67013 non-null uint8\n",
      "wagon                             67013 non-null uint8\n",
      "4wd                               67013 non-null uint8\n",
      "fwd                               67013 non-null uint8\n",
      "hybrid                            67013 non-null uint8\n",
      "rwd                               67013 non-null uint8\n",
      "clean                             67013 non-null uint8\n",
      "diesel                            67013 non-null uint8\n",
      "electric                          67013 non-null uint8\n",
      "gas                               67013 non-null uint8\n",
      "hybrid                            67013 non-null uint8\n",
      "other                             67013 non-null uint8\n",
      "dtypes: float64(1), int64(2), object(22), uint8(24)\n",
      "memory usage: 14.8+ MB\n"
     ]
    }
   ],
   "source": [
    "print(df_cg_j['fuel'].value_counts())\n",
    "fuel_good = ['gas','other','diesel','hybrid','electric','clean']\n",
    "fuel_bad = set(list(df_cg_j.fuel)) - set(fuel_good)\n",
    "for fuel in fuel_bad:\n",
    "    df_cg_j['fuel'] = df_cg_j['fuel'].replace(fuel,np.NaN)\n",
    "fuel_dummies = pd.get_dummies(df_cg_j['fuel'])\n",
    "df_cg_j = pd.concat([df_cg_j, fuel_dummies], axis=1)\n",
    "df_cg_j.info()"
   ]
  },
  {
   "cell_type": "markdown",
   "metadata": {},
   "source": [
    "Converting mileage to numeric. The max number is high and probably unlikely (because of it's magnitude and it's roundness). I visually explore the distribution later in the notebook to see whether I should exclude such suspicious values."
   ]
  },
  {
   "cell_type": "code",
   "execution_count": 17,
   "metadata": {
    "scrolled": true
   },
   "outputs": [
    {
     "data": {
      "text/plain": [
       "count    4.344300e+04\n",
       "mean     1.166219e+05\n",
       "std      1.984926e+05\n",
       "min      0.000000e+00\n",
       "25%      5.331250e+04\n",
       "50%      1.045750e+05\n",
       "75%      1.540000e+05\n",
       "max      1.000000e+07\n",
       "Name: mileage, dtype: float64"
      ]
     },
     "execution_count": 17,
     "metadata": {},
     "output_type": "execute_result"
    }
   ],
   "source": [
    "df_cg_j['odometer'] = pd.to_numeric(df_cg_j['odometer'], errors='coerce')\n",
    "df_cg_j = df_cg_j.rename(index = str, columns={'odometer': 'mileage'})\n",
    "df_cg_j['mileage'].describe() "
   ]
  },
  {
   "cell_type": "markdown",
   "metadata": {},
   "source": [
    "I restrict the colours to a smaller number."
   ]
  },
  {
   "cell_type": "code",
   "execution_count": 18,
   "metadata": {},
   "outputs": [
    {
     "name": "stdout",
     "output_type": "stream",
     "text": [
      "white          9758\n",
      "black          6621\n",
      "silver         5292\n",
      "red            3874\n",
      "grey           3758\n",
      "blue           3668\n",
      "green          1589\n",
      "custom         1249\n",
      "brown           999\n",
      "yellow          449\n",
      "orange          254\n",
      "full-size       210\n",
      "clean           172\n",
      "purple          119\n",
      "mid-size        116\n",
      "compact          57\n",
      "salvage           8\n",
      "sub-compact       6\n",
      "missing           2\n",
      "rebuilt           1\n",
      "Name: paint_color, dtype: int64\n",
      "{nan, 'salvage', 'sub-compact', 'custom', 'full-size', 'mid-size', 'missing', 'clean', 'compact', 'rebuilt'}\n"
     ]
    }
   ],
   "source": [
    "print(df_cg_j['paint_color'].value_counts())\n",
    "color_good = ['white','black','silver','grey','blue','red', 'green','brown','yellow','orange','purple']\n",
    "color_bad = set(df_cg_j.paint_color) - set(color_good)\n",
    "print(color_bad)\n",
    "for color in color_bad:\n",
    "    df_cg_j['paint_color'] = df_cg_j['paint_color'].replace(color,np.NaN)\n",
    "paint_dummies = pd.get_dummies(df_cg_j['paint_color'])\n",
    "df_cg_j = pd.concat([df_cg_j, paint_dummies], axis=1)"
   ]
  },
  {
   "cell_type": "markdown",
   "metadata": {},
   "source": [
    "Again, I restrict to sizes that are actually sizes."
   ]
  },
  {
   "cell_type": "code",
   "execution_count": 19,
   "metadata": {},
   "outputs": [
    {
     "name": "stdout",
     "output_type": "stream",
     "text": [
      "full-size      11386\n",
      "mid-size        5835\n",
      "compact         3720\n",
      "clean            374\n",
      "sub-compact      336\n",
      "salvage           15\n",
      "rebuilt            9\n",
      "lien               5\n",
      "parts_only         1\n",
      "missing            1\n",
      "Name: size, dtype: int64\n",
      "{nan, 'salvage', 'lien', 'missing', 'clean', 'rebuilt', 'parts_only'}\n"
     ]
    }
   ],
   "source": [
    "print(df_cg_j['size'].value_counts())\n",
    "size_good = ['full-size','mid-size','compact','sub-compact']\n",
    "size_bad = set(list(df_cg_j['size'])) - set(size_good)\n",
    "print(size_bad)\n",
    "for size in size_bad:\n",
    "    df_cg_j['size'] = df_cg_j['size'].replace(size,np.NaN)\n",
    "size_dummies = pd.get_dummies(df_cg_j['size']).head(5)\n",
    "df_cg_j = pd.concat([df_cg_j, size_dummies], axis=1)"
   ]
  },
  {
   "cell_type": "code",
   "execution_count": 20,
   "metadata": {},
   "outputs": [
    {
     "name": "stdout",
     "output_type": "stream",
     "text": [
      "<class 'pandas.core.frame.DataFrame'>\n",
      "Index: 67013 entries, 0 to 9999\n",
      "Data columns (total 64 columns):\n",
      "<b>2005_Prerunner_trd:            1 non-null object\n",
      "<b>2013_Hyundai_Elantra_(Stk_#    1 non-null object\n",
      "<b>2017_Volkswagen_Golf__GTI_S    1 non-null object\n",
      "URL                               67013 non-null object\n",
      "Unnamed: 0_x                      67013 non-null int64\n",
      "VIN                               19430 non-null object\n",
      "VIN:_<b>                          1 non-null object\n",
      "VIN:_<b>Ctrjjv2568                1 non-null object\n",
      "VIN:_<b>VIN                       2 non-null object\n",
      "VIN:_<b>Vin#                      0 non-null object\n",
      "condition                         38839 non-null object\n",
      "cylinders                         39644 non-null object\n",
      "disabled                          67013 non-null object\n",
      "drive                             36541 non-null object\n",
      "fuel                              65967 non-null object\n",
      "mileage                           43443 non-null float64\n",
      "paint_color                       36381 non-null object\n",
      "size                              21277 non-null object\n",
      "title                             67010 non-null object\n",
      "title_status                      66998 non-null object\n",
      "transmission                      66581 non-null object\n",
      "type                              35028 non-null object\n",
      "Unnamed: 0_y                      67013 non-null int64\n",
      "Price                             67013 non-null object\n",
      "cylinders_no                      37834 non-null float64\n",
      "excellent                         67013 non-null uint8\n",
      "fair                              67013 non-null uint8\n",
      "good                              67013 non-null uint8\n",
      "like_new                          67013 non-null uint8\n",
      "new                               67013 non-null uint8\n",
      "SUV                               67013 non-null uint8\n",
      "bus                               67013 non-null uint8\n",
      "mini-van                          67013 non-null uint8\n",
      "offroad                           67013 non-null uint8\n",
      "other                             67013 non-null uint8\n",
      "pickup                            67013 non-null uint8\n",
      "truck                             67013 non-null uint8\n",
      "van                               67013 non-null uint8\n",
      "wagon                             67013 non-null uint8\n",
      "4wd                               67013 non-null uint8\n",
      "fwd                               67013 non-null uint8\n",
      "hybrid                            67013 non-null uint8\n",
      "rwd                               67013 non-null uint8\n",
      "clean                             67013 non-null uint8\n",
      "diesel                            67013 non-null uint8\n",
      "electric                          67013 non-null uint8\n",
      "gas                               67013 non-null uint8\n",
      "hybrid                            67013 non-null uint8\n",
      "other                             67013 non-null uint8\n",
      "black                             67013 non-null uint8\n",
      "blue                              67013 non-null uint8\n",
      "brown                             67013 non-null uint8\n",
      "green                             67013 non-null uint8\n",
      "grey                              67013 non-null uint8\n",
      "orange                            67013 non-null uint8\n",
      "purple                            67013 non-null uint8\n",
      "red                               67013 non-null uint8\n",
      "silver                            67013 non-null uint8\n",
      "white                             67013 non-null uint8\n",
      "yellow                            67013 non-null uint8\n",
      "compact                           5 non-null float64\n",
      "full-size                         5 non-null float64\n",
      "mid-size                          5 non-null float64\n",
      "sub-compact                       5 non-null float64\n",
      "dtypes: float64(6), int64(2), object(21), uint8(35)\n",
      "memory usage: 17.6+ MB\n"
     ]
    }
   ],
   "source": [
    "df_cg_j.info()"
   ]
  },
  {
   "cell_type": "markdown",
   "metadata": {},
   "source": [
    "Keep only titles that are clean since I would like to focus on cars that are driveable."
   ]
  },
  {
   "cell_type": "code",
   "execution_count": 21,
   "metadata": {},
   "outputs": [
    {
     "name": "stdout",
     "output_type": "stream",
     "text": [
      "clean         60100\n",
      "salvage        3095\n",
      "rebuilt        1357\n",
      "lien            791\n",
      "automatic       626\n",
      "missing         576\n",
      "parts_only      309\n",
      "manual          131\n",
      "other            13\n",
      "Name: title_status, dtype: int64\n"
     ]
    },
    {
     "data": {
      "text/plain": [
       "clean    60100\n",
       "Name: title_status, dtype: int64"
      ]
     },
     "execution_count": 21,
     "metadata": {},
     "output_type": "execute_result"
    }
   ],
   "source": [
    "print(df_cg_j['title_status'].value_counts())\n",
    "df_cg_j.drop(df_cg_j[df_cg_j.title_status != 'clean'].index, inplace=True)\n",
    "\n",
    "df_cg_j.title_status.value_counts()"
   ]
  },
  {
   "cell_type": "markdown",
   "metadata": {},
   "source": [
    "I drop other types of transmission as I wasn't sure what it meant."
   ]
  },
  {
   "cell_type": "code",
   "execution_count": 22,
   "metadata": {},
   "outputs": [
    {
     "name": "stdout",
     "output_type": "stream",
     "text": [
      "automatic    50897\n",
      "manual        7857\n",
      "other         1191\n",
      "Name: transmission, dtype: int64\n",
      "{nan, 'other'}\n",
      "<class 'pandas.core.frame.DataFrame'>\n",
      "Index: 60100 entries, 0 to 9999\n",
      "Data columns (total 66 columns):\n",
      "<b>2005_Prerunner_trd:            1 non-null object\n",
      "<b>2013_Hyundai_Elantra_(Stk_#    1 non-null object\n",
      "<b>2017_Volkswagen_Golf__GTI_S    0 non-null object\n",
      "URL                               60100 non-null object\n",
      "Unnamed: 0_x                      60100 non-null int64\n",
      "VIN                               18671 non-null object\n",
      "VIN:_<b>                          1 non-null object\n",
      "VIN:_<b>Ctrjjv2568                1 non-null object\n",
      "VIN:_<b>VIN                       1 non-null object\n",
      "VIN:_<b>Vin#                      0 non-null object\n",
      "condition                         34499 non-null object\n",
      "cylinders                         35434 non-null object\n",
      "disabled                          60100 non-null object\n",
      "drive                             33586 non-null object\n",
      "fuel                              59781 non-null object\n",
      "mileage                           39884 non-null float64\n",
      "paint_color                       33302 non-null object\n",
      "size                              19172 non-null object\n",
      "title                             60098 non-null object\n",
      "title_status                      60100 non-null object\n",
      "transmission                      58754 non-null object\n",
      "type                              32388 non-null object\n",
      "Unnamed: 0_y                      60100 non-null int64\n",
      "Price                             60100 non-null object\n",
      "cylinders_no                      34251 non-null float64\n",
      "excellent                         60100 non-null uint8\n",
      "fair                              60100 non-null uint8\n",
      "good                              60100 non-null uint8\n",
      "like_new                          60100 non-null uint8\n",
      "new                               60100 non-null uint8\n",
      "SUV                               60100 non-null uint8\n",
      "bus                               60100 non-null uint8\n",
      "mini-van                          60100 non-null uint8\n",
      "offroad                           60100 non-null uint8\n",
      "other                             60100 non-null uint8\n",
      "pickup                            60100 non-null uint8\n",
      "truck                             60100 non-null uint8\n",
      "van                               60100 non-null uint8\n",
      "wagon                             60100 non-null uint8\n",
      "4wd                               60100 non-null uint8\n",
      "fwd                               60100 non-null uint8\n",
      "hybrid                            60100 non-null uint8\n",
      "rwd                               60100 non-null uint8\n",
      "clean                             60100 non-null uint8\n",
      "diesel                            60100 non-null uint8\n",
      "electric                          60100 non-null uint8\n",
      "gas                               60100 non-null uint8\n",
      "hybrid                            60100 non-null uint8\n",
      "other                             60100 non-null uint8\n",
      "black                             60100 non-null uint8\n",
      "blue                              60100 non-null uint8\n",
      "brown                             60100 non-null uint8\n",
      "green                             60100 non-null uint8\n",
      "grey                              60100 non-null uint8\n",
      "orange                            60100 non-null uint8\n",
      "purple                            60100 non-null uint8\n",
      "red                               60100 non-null uint8\n",
      "silver                            60100 non-null uint8\n",
      "white                             60100 non-null uint8\n",
      "yellow                            60100 non-null uint8\n",
      "compact                           5 non-null float64\n",
      "full-size                         5 non-null float64\n",
      "mid-size                          5 non-null float64\n",
      "sub-compact                       5 non-null float64\n",
      "automatic                         60100 non-null uint8\n",
      "manual                            60100 non-null uint8\n",
      "dtypes: float64(6), int64(2), object(21), uint8(37)\n",
      "memory usage: 15.9+ MB\n"
     ]
    }
   ],
   "source": [
    "print(df_cg_j['transmission'].value_counts())\n",
    "trans_good = ['automatic','manual']\n",
    "trans_bad = set(list(df_cg_j['transmission'])) - set(trans_good)\n",
    "print(trans_bad)\n",
    "for trans in trans_bad:\n",
    "    df_cg_j['transmission'] = df_cg_j['transmission'].replace(trans,np.NaN)\n",
    "transmission_dummies = pd.get_dummies(df_cg_j['transmission'])\n",
    "df_cg_j = pd.concat([df_cg_j, transmission_dummies], axis=1)\n",
    "\n",
    "df_cg_j.info()"
   ]
  },
  {
   "cell_type": "markdown",
   "metadata": {},
   "source": [
    "I extract the brand and model of the vehicle from the title of the listing using regular expressions."
   ]
  },
  {
   "cell_type": "code",
   "execution_count": 23,
   "metadata": {},
   "outputs": [
    {
     "name": "stdout",
     "output_type": "stream",
     "text": [
      "0            2004_mitsubishi_diamante\n",
      "1                2004_Honda_Accord_ex\n",
      "10       1999_International_4700_T44E\n",
      "1000                  2006_honda_cr-v\n",
      "10000                2017_Honda_Civic\n",
      "Name: title, dtype: object\n",
      "ford             9484\n",
      "chevrolet        5499\n",
      "toyota           5211\n",
      "dodge            3654\n",
      "honda            3544\n",
      "chevy            3511\n",
      "nissan           3162\n",
      "gmc              2432\n",
      "jeep             2289\n",
      "bmw              1907\n",
      "mercedes         1266\n",
      "chrysler          942\n",
      "hyundai           922\n",
      "lexus             863\n",
      "volkswagen        861\n",
      "kia               860\n",
      "cadillac          755\n",
      "mazda             687\n",
      "acura             621\n",
      "subaru            614\n",
      "buick             565\n",
      "pontiac           557\n",
      "vw                514\n",
      "ram               493\n",
      "audi              435\n",
      "lincoln           427\n",
      "volvo             397\n",
      "infiniti          354\n",
      "saturn            308\n",
      "mitsubishi        296\n",
      "mercury           285\n",
      "mini              269\n",
      "scion             237\n",
      "jaguar            205\n",
      "porsche           203\n",
      "land              203\n",
      "international     148\n",
      "suzuki            134\n",
      "plymouth          130\n",
      "nan               120\n",
      "isuzu             119\n",
      "oldsmobile        113\n",
      "hummer            110\n",
      "Name: brand_company, dtype: int64\n"
     ]
    }
   ],
   "source": [
    "print(df_cg_j['title'].head())\n",
    "df_cg_j['title'] = [str(x).replace('_',' ') for x in df_cg_j['title']]\n",
    "title = [re.search('([0-9]{4}) (\\w+) (\\w+)', str(x)) for x in df_cg_j['title']]\n",
    "df_cg_j[['year','brand_company']] = df_cg_j['title'].str.extract('([0-9]{4}) (\\w+)', expand=True)\n",
    "df_cg_j['year'] = pd.to_numeric(df_cg_j['year'])\n",
    "df_cg_j['brand_company'] = [str(x).lower() for x in df_cg_j['brand_company']]\n",
    "df_cg_j.loc[df_cg_j.groupby('brand_company').brand_company.transform('count').lt(100), 'brand_company'] = np.nan  \n",
    "print(df_cg_j['brand_company'].value_counts())\n",
    "brand_dummies = pd.get_dummies(df_cg_j['brand_company'])\n",
    "df_cg_j = pd.concat([df_cg_j, brand_dummies], axis=1)"
   ]
  },
  {
   "cell_type": "code",
   "execution_count": 25,
   "metadata": {},
   "outputs": [
    {
     "data": {
      "text/html": [
       "<div>\n",
       "<style scoped>\n",
       "    .dataframe tbody tr th:only-of-type {\n",
       "        vertical-align: middle;\n",
       "    }\n",
       "\n",
       "    .dataframe tbody tr th {\n",
       "        vertical-align: top;\n",
       "    }\n",
       "\n",
       "    .dataframe thead th {\n",
       "        text-align: right;\n",
       "    }\n",
       "</style>\n",
       "<table border=\"1\" class=\"dataframe\">\n",
       "  <thead>\n",
       "    <tr style=\"text-align: right;\">\n",
       "      <th></th>\n",
       "      <th>&lt;b&gt;2005_Prerunner_trd:</th>\n",
       "      <th>&lt;b&gt;2013_Hyundai_Elantra_(Stk_#</th>\n",
       "      <th>&lt;b&gt;2017_Volkswagen_Golf__GTI_S</th>\n",
       "      <th>URL</th>\n",
       "      <th>Unnamed: 0_x</th>\n",
       "      <th>VIN</th>\n",
       "      <th>VIN:_&lt;b&gt;</th>\n",
       "      <th>VIN:_&lt;b&gt;Ctrjjv2568</th>\n",
       "      <th>VIN:_&lt;b&gt;VIN</th>\n",
       "      <th>VIN:_&lt;b&gt;Vin#</th>\n",
       "      <th>...</th>\n",
       "      <th>porsche</th>\n",
       "      <th>ram</th>\n",
       "      <th>saturn</th>\n",
       "      <th>scion</th>\n",
       "      <th>subaru</th>\n",
       "      <th>suzuki</th>\n",
       "      <th>toyota</th>\n",
       "      <th>volkswagen</th>\n",
       "      <th>volvo</th>\n",
       "      <th>vw</th>\n",
       "    </tr>\n",
       "  </thead>\n",
       "  <tbody>\n",
       "    <tr>\n",
       "      <th>0</th>\n",
       "      <td>NaN</td>\n",
       "      <td>NaN</td>\n",
       "      <td>NaN</td>\n",
       "      <td>https://modesto.craigslist.org/cto/d/2004-mits...</td>\n",
       "      <td>0</td>\n",
       "      <td>NaN</td>\n",
       "      <td>NaN</td>\n",
       "      <td>NaN</td>\n",
       "      <td>NaN</td>\n",
       "      <td>NaN</td>\n",
       "      <td>...</td>\n",
       "      <td>0</td>\n",
       "      <td>0</td>\n",
       "      <td>0</td>\n",
       "      <td>0</td>\n",
       "      <td>0</td>\n",
       "      <td>0</td>\n",
       "      <td>0</td>\n",
       "      <td>0</td>\n",
       "      <td>0</td>\n",
       "      <td>0</td>\n",
       "    </tr>\n",
       "    <tr>\n",
       "      <th>1</th>\n",
       "      <td>NaN</td>\n",
       "      <td>NaN</td>\n",
       "      <td>NaN</td>\n",
       "      <td>https://sfbay.craigslist.org/eby/cto/d/2004-ho...</td>\n",
       "      <td>1</td>\n",
       "      <td>NaN</td>\n",
       "      <td>NaN</td>\n",
       "      <td>NaN</td>\n",
       "      <td>NaN</td>\n",
       "      <td>NaN</td>\n",
       "      <td>...</td>\n",
       "      <td>0</td>\n",
       "      <td>0</td>\n",
       "      <td>0</td>\n",
       "      <td>0</td>\n",
       "      <td>0</td>\n",
       "      <td>0</td>\n",
       "      <td>0</td>\n",
       "      <td>0</td>\n",
       "      <td>0</td>\n",
       "      <td>0</td>\n",
       "    </tr>\n",
       "    <tr>\n",
       "      <th>10</th>\n",
       "      <td>NaN</td>\n",
       "      <td>NaN</td>\n",
       "      <td>NaN</td>\n",
       "      <td>https://sfbay.craigslist.org/sby/ctd/d/interna...</td>\n",
       "      <td>10</td>\n",
       "      <td>1HTSMABK4XH687208</td>\n",
       "      <td>NaN</td>\n",
       "      <td>NaN</td>\n",
       "      <td>NaN</td>\n",
       "      <td>NaN</td>\n",
       "      <td>...</td>\n",
       "      <td>0</td>\n",
       "      <td>0</td>\n",
       "      <td>0</td>\n",
       "      <td>0</td>\n",
       "      <td>0</td>\n",
       "      <td>0</td>\n",
       "      <td>0</td>\n",
       "      <td>0</td>\n",
       "      <td>0</td>\n",
       "      <td>0</td>\n",
       "    </tr>\n",
       "    <tr>\n",
       "      <th>1000</th>\n",
       "      <td>NaN</td>\n",
       "      <td>NaN</td>\n",
       "      <td>NaN</td>\n",
       "      <td>https://mobile.craigslist.org/cto/d/honda-cr-2...</td>\n",
       "      <td>66</td>\n",
       "      <td>JHLRD685X6C009930</td>\n",
       "      <td>NaN</td>\n",
       "      <td>NaN</td>\n",
       "      <td>NaN</td>\n",
       "      <td>NaN</td>\n",
       "      <td>...</td>\n",
       "      <td>0</td>\n",
       "      <td>0</td>\n",
       "      <td>0</td>\n",
       "      <td>0</td>\n",
       "      <td>0</td>\n",
       "      <td>0</td>\n",
       "      <td>0</td>\n",
       "      <td>0</td>\n",
       "      <td>0</td>\n",
       "      <td>0</td>\n",
       "    </tr>\n",
       "    <tr>\n",
       "      <th>10000</th>\n",
       "      <td>NaN</td>\n",
       "      <td>NaN</td>\n",
       "      <td>NaN</td>\n",
       "      <td>https://santamaria.craigslist.org/ctd/d/2017-h...</td>\n",
       "      <td>24</td>\n",
       "      <td>19XFC2F70HE222168</td>\n",
       "      <td>NaN</td>\n",
       "      <td>NaN</td>\n",
       "      <td>NaN</td>\n",
       "      <td>NaN</td>\n",
       "      <td>...</td>\n",
       "      <td>0</td>\n",
       "      <td>0</td>\n",
       "      <td>0</td>\n",
       "      <td>0</td>\n",
       "      <td>0</td>\n",
       "      <td>0</td>\n",
       "      <td>0</td>\n",
       "      <td>0</td>\n",
       "      <td>0</td>\n",
       "      <td>0</td>\n",
       "    </tr>\n",
       "  </tbody>\n",
       "</table>\n",
       "<p>5 rows × 111 columns</p>\n",
       "</div>"
      ],
      "text/plain": [
       "      <b>2005_Prerunner_trd: <b>2013_Hyundai_Elantra_(Stk_#  \\\n",
       "0                        NaN                            NaN   \n",
       "1                        NaN                            NaN   \n",
       "10                       NaN                            NaN   \n",
       "1000                     NaN                            NaN   \n",
       "10000                    NaN                            NaN   \n",
       "\n",
       "      <b>2017_Volkswagen_Golf__GTI_S  \\\n",
       "0                                NaN   \n",
       "1                                NaN   \n",
       "10                               NaN   \n",
       "1000                             NaN   \n",
       "10000                            NaN   \n",
       "\n",
       "                                                     URL  Unnamed: 0_x  \\\n",
       "0      https://modesto.craigslist.org/cto/d/2004-mits...             0   \n",
       "1      https://sfbay.craigslist.org/eby/cto/d/2004-ho...             1   \n",
       "10     https://sfbay.craigslist.org/sby/ctd/d/interna...            10   \n",
       "1000   https://mobile.craigslist.org/cto/d/honda-cr-2...            66   \n",
       "10000  https://santamaria.craigslist.org/ctd/d/2017-h...            24   \n",
       "\n",
       "                     VIN VIN:_<b> VIN:_<b>Ctrjjv2568 VIN:_<b>VIN VIN:_<b>Vin#  \\\n",
       "0                    NaN      NaN                NaN         NaN          NaN   \n",
       "1                    NaN      NaN                NaN         NaN          NaN   \n",
       "10     1HTSMABK4XH687208      NaN                NaN         NaN          NaN   \n",
       "1000   JHLRD685X6C009930      NaN                NaN         NaN          NaN   \n",
       "10000  19XFC2F70HE222168      NaN                NaN         NaN          NaN   \n",
       "\n",
       "      ... porsche ram saturn scion subaru  suzuki toyota volkswagen volvo vw  \n",
       "0     ...       0   0      0     0      0       0      0          0     0  0  \n",
       "1     ...       0   0      0     0      0       0      0          0     0  0  \n",
       "10    ...       0   0      0     0      0       0      0          0     0  0  \n",
       "1000  ...       0   0      0     0      0       0      0          0     0  0  \n",
       "10000 ...       0   0      0     0      0       0      0          0     0  0  \n",
       "\n",
       "[5 rows x 111 columns]"
      ]
     },
     "execution_count": 25,
     "metadata": {},
     "output_type": "execute_result"
    }
   ],
   "source": [
    "df_cg_j.head()"
   ]
  },
  {
   "cell_type": "markdown",
   "metadata": {},
   "source": [
    "I extract the year. I limit it to 1901 and later as there are quite a few vehicles listed as 1900 but which are unlikely."
   ]
  },
  {
   "cell_type": "code",
   "execution_count": 26,
   "metadata": {
    "collapsed": true
   },
   "outputs": [],
   "source": [
    "df_cg_j.describe()\n",
    "df_cg_j.sort_values(by = ['year'])[['year','URL']].head(20)\n",
    "df_cg_j.loc[df_cg_j['year'].lt(1901), 'year'] = np.nan  "
   ]
  },
  {
   "cell_type": "code",
   "execution_count": 27,
   "metadata": {
    "collapsed": true
   },
   "outputs": [],
   "source": [
    "df_cg_j.drop(['<b>2017_Volkswagen_Golf__GTI_S', 'Unnamed: 0','VIN:_<b>','VIN:_<b>VIN', 'VIN:_<b>Vin#'],axis=1, inplace = True)"
   ]
  },
  {
   "cell_type": "code",
   "execution_count": 28,
   "metadata": {},
   "outputs": [
    {
     "data": {
      "text/plain": [
       "0         $2500\n",
       "1         $5300\n",
       "10       $19500\n",
       "1000      $4500\n",
       "10000    $21515\n",
       "Name: Price, dtype: object"
      ]
     },
     "execution_count": 28,
     "metadata": {},
     "output_type": "execute_result"
    }
   ],
   "source": [
    "df_cg_j['Price'].head()"
   ]
  },
  {
   "cell_type": "markdown",
   "metadata": {},
   "source": [
    "Cleaning Price to get rid of the currency sign."
   ]
  },
  {
   "cell_type": "code",
   "execution_count": 29,
   "metadata": {
    "collapsed": true
   },
   "outputs": [],
   "source": [
    "df_cg_j['Price'] = [x.replace('$','') for x in df_cg_j['Price']]\n",
    "df_cg_j['Price'] = [int(x) for x in df_cg_j['Price']]"
   ]
  },
  {
   "cell_type": "code",
   "execution_count": 30,
   "metadata": {},
   "outputs": [
    {
     "data": {
      "text/plain": [
       "Index(['<b>2005_Prerunner_trd:', '<b>2013_Hyundai_Elantra_(Stk_#', 'URL',\n",
       "       'Unnamed: 0_x', 'VIN', 'VIN:_<b>Ctrjjv2568', 'condition', 'cylinders',\n",
       "       'disabled', 'drive',\n",
       "       ...\n",
       "       'porsche', 'ram', 'saturn', 'scion', 'subaru', 'suzuki', 'toyota',\n",
       "       'volkswagen', 'volvo', 'vw'],\n",
       "      dtype='object', length=107)"
      ]
     },
     "execution_count": 30,
     "metadata": {},
     "output_type": "execute_result"
    }
   ],
   "source": [
    "df_cg_j.columns"
   ]
  },
  {
   "cell_type": "code",
   "execution_count": 31,
   "metadata": {},
   "outputs": [
    {
     "data": {
      "text/html": [
       "<div>\n",
       "<style scoped>\n",
       "    .dataframe tbody tr th:only-of-type {\n",
       "        vertical-align: middle;\n",
       "    }\n",
       "\n",
       "    .dataframe tbody tr th {\n",
       "        vertical-align: top;\n",
       "    }\n",
       "\n",
       "    .dataframe thead th {\n",
       "        text-align: right;\n",
       "    }\n",
       "</style>\n",
       "<table border=\"1\" class=\"dataframe\">\n",
       "  <thead>\n",
       "    <tr style=\"text-align: right;\">\n",
       "      <th></th>\n",
       "      <th>&lt;b&gt;2005_Prerunner_trd:</th>\n",
       "      <th>&lt;b&gt;2013_Hyundai_Elantra_(Stk_#</th>\n",
       "      <th>URL</th>\n",
       "      <th>Unnamed: 0_x</th>\n",
       "      <th>VIN</th>\n",
       "      <th>VIN:_&lt;b&gt;Ctrjjv2568</th>\n",
       "      <th>condition</th>\n",
       "      <th>cylinders</th>\n",
       "      <th>disabled</th>\n",
       "      <th>drive</th>\n",
       "      <th>...</th>\n",
       "      <th>porsche</th>\n",
       "      <th>ram</th>\n",
       "      <th>saturn</th>\n",
       "      <th>scion</th>\n",
       "      <th>subaru</th>\n",
       "      <th>suzuki</th>\n",
       "      <th>toyota</th>\n",
       "      <th>volkswagen</th>\n",
       "      <th>volvo</th>\n",
       "      <th>vw</th>\n",
       "    </tr>\n",
       "  </thead>\n",
       "  <tbody>\n",
       "    <tr>\n",
       "      <th>0</th>\n",
       "      <td>NaN</td>\n",
       "      <td>NaN</td>\n",
       "      <td>https://modesto.craigslist.org/cto/d/2004-mits...</td>\n",
       "      <td>0</td>\n",
       "      <td>NaN</td>\n",
       "      <td>NaN</td>\n",
       "      <td>good</td>\n",
       "      <td>6_cylinders</td>\n",
       "      <td>No</td>\n",
       "      <td>NaN</td>\n",
       "      <td>...</td>\n",
       "      <td>0</td>\n",
       "      <td>0</td>\n",
       "      <td>0</td>\n",
       "      <td>0</td>\n",
       "      <td>0</td>\n",
       "      <td>0</td>\n",
       "      <td>0</td>\n",
       "      <td>0</td>\n",
       "      <td>0</td>\n",
       "      <td>0</td>\n",
       "    </tr>\n",
       "    <tr>\n",
       "      <th>1</th>\n",
       "      <td>NaN</td>\n",
       "      <td>NaN</td>\n",
       "      <td>https://sfbay.craigslist.org/eby/cto/d/2004-ho...</td>\n",
       "      <td>1</td>\n",
       "      <td>NaN</td>\n",
       "      <td>NaN</td>\n",
       "      <td>excellent</td>\n",
       "      <td>4_cylinders</td>\n",
       "      <td>No</td>\n",
       "      <td>fwd</td>\n",
       "      <td>...</td>\n",
       "      <td>0</td>\n",
       "      <td>0</td>\n",
       "      <td>0</td>\n",
       "      <td>0</td>\n",
       "      <td>0</td>\n",
       "      <td>0</td>\n",
       "      <td>0</td>\n",
       "      <td>0</td>\n",
       "      <td>0</td>\n",
       "      <td>0</td>\n",
       "    </tr>\n",
       "    <tr>\n",
       "      <th>10</th>\n",
       "      <td>NaN</td>\n",
       "      <td>NaN</td>\n",
       "      <td>https://sfbay.craigslist.org/sby/ctd/d/interna...</td>\n",
       "      <td>10</td>\n",
       "      <td>1HTSMABK4XH687208</td>\n",
       "      <td>NaN</td>\n",
       "      <td>NaN</td>\n",
       "      <td>8_cylinders</td>\n",
       "      <td>No</td>\n",
       "      <td>rwd</td>\n",
       "      <td>...</td>\n",
       "      <td>0</td>\n",
       "      <td>0</td>\n",
       "      <td>0</td>\n",
       "      <td>0</td>\n",
       "      <td>0</td>\n",
       "      <td>0</td>\n",
       "      <td>0</td>\n",
       "      <td>0</td>\n",
       "      <td>0</td>\n",
       "      <td>0</td>\n",
       "    </tr>\n",
       "    <tr>\n",
       "      <th>1000</th>\n",
       "      <td>NaN</td>\n",
       "      <td>NaN</td>\n",
       "      <td>https://mobile.craigslist.org/cto/d/honda-cr-2...</td>\n",
       "      <td>66</td>\n",
       "      <td>JHLRD685X6C009930</td>\n",
       "      <td>NaN</td>\n",
       "      <td>good</td>\n",
       "      <td>4_cylinders</td>\n",
       "      <td>No</td>\n",
       "      <td>fwd</td>\n",
       "      <td>...</td>\n",
       "      <td>0</td>\n",
       "      <td>0</td>\n",
       "      <td>0</td>\n",
       "      <td>0</td>\n",
       "      <td>0</td>\n",
       "      <td>0</td>\n",
       "      <td>0</td>\n",
       "      <td>0</td>\n",
       "      <td>0</td>\n",
       "      <td>0</td>\n",
       "    </tr>\n",
       "    <tr>\n",
       "      <th>10000</th>\n",
       "      <td>NaN</td>\n",
       "      <td>NaN</td>\n",
       "      <td>https://santamaria.craigslist.org/ctd/d/2017-h...</td>\n",
       "      <td>24</td>\n",
       "      <td>19XFC2F70HE222168</td>\n",
       "      <td>NaN</td>\n",
       "      <td>NaN</td>\n",
       "      <td>other</td>\n",
       "      <td>No</td>\n",
       "      <td>NaN</td>\n",
       "      <td>...</td>\n",
       "      <td>0</td>\n",
       "      <td>0</td>\n",
       "      <td>0</td>\n",
       "      <td>0</td>\n",
       "      <td>0</td>\n",
       "      <td>0</td>\n",
       "      <td>0</td>\n",
       "      <td>0</td>\n",
       "      <td>0</td>\n",
       "      <td>0</td>\n",
       "    </tr>\n",
       "  </tbody>\n",
       "</table>\n",
       "<p>5 rows × 107 columns</p>\n",
       "</div>"
      ],
      "text/plain": [
       "      <b>2005_Prerunner_trd: <b>2013_Hyundai_Elantra_(Stk_#  \\\n",
       "0                        NaN                            NaN   \n",
       "1                        NaN                            NaN   \n",
       "10                       NaN                            NaN   \n",
       "1000                     NaN                            NaN   \n",
       "10000                    NaN                            NaN   \n",
       "\n",
       "                                                     URL  Unnamed: 0_x  \\\n",
       "0      https://modesto.craigslist.org/cto/d/2004-mits...             0   \n",
       "1      https://sfbay.craigslist.org/eby/cto/d/2004-ho...             1   \n",
       "10     https://sfbay.craigslist.org/sby/ctd/d/interna...            10   \n",
       "1000   https://mobile.craigslist.org/cto/d/honda-cr-2...            66   \n",
       "10000  https://santamaria.craigslist.org/ctd/d/2017-h...            24   \n",
       "\n",
       "                     VIN VIN:_<b>Ctrjjv2568  condition    cylinders disabled  \\\n",
       "0                    NaN                NaN       good  6_cylinders       No   \n",
       "1                    NaN                NaN  excellent  4_cylinders       No   \n",
       "10     1HTSMABK4XH687208                NaN        NaN  8_cylinders       No   \n",
       "1000   JHLRD685X6C009930                NaN       good  4_cylinders       No   \n",
       "10000  19XFC2F70HE222168                NaN        NaN        other       No   \n",
       "\n",
       "      drive ... porsche  ram saturn scion subaru suzuki toyota volkswagen  \\\n",
       "0       NaN ...       0    0      0     0      0      0      0          0   \n",
       "1       fwd ...       0    0      0     0      0      0      0          0   \n",
       "10      rwd ...       0    0      0     0      0      0      0          0   \n",
       "1000    fwd ...       0    0      0     0      0      0      0          0   \n",
       "10000   NaN ...       0    0      0     0      0      0      0          0   \n",
       "\n",
       "       volvo  vw  \n",
       "0          0   0  \n",
       "1          0   0  \n",
       "10         0   0  \n",
       "1000       0   0  \n",
       "10000      0   0  \n",
       "\n",
       "[5 rows x 107 columns]"
      ]
     },
     "execution_count": 31,
     "metadata": {},
     "output_type": "execute_result"
    }
   ],
   "source": [
    "df_cg_j.head()"
   ]
  },
  {
   "cell_type": "code",
   "execution_count": 32,
   "metadata": {
    "collapsed": true
   },
   "outputs": [],
   "source": [
    "df_cg_j.to_csv('Craigs_list_all.csv')"
   ]
  },
  {
   "cell_type": "markdown",
   "metadata": {},
   "source": [
    "** Bringing in specialist accessible vehicle company data **\n",
    "\n",
    "I also scrapped the website of a company which specialises in accessible vehicles."
   ]
  },
  {
   "cell_type": "code",
   "execution_count": 33,
   "metadata": {
    "collapsed": true
   },
   "outputs": [],
   "source": [
    "'''\n",
    "df_mb_list = []\n",
    "for csv in np.arange(100,500,100):\n",
    "    df_ind = pd.read_csv(\"/Users/vickyclayton/Google Drive/Documents/Of interest/Data Science/Bootcamp/Metis/metisgh/Class Lectures/Week 2/Mobility_Works_{0}.csv\".format(csv))\n",
    "    df_mb_list.append(df_ind)\n",
    "df_mb = pd.concat(df_mb_list, ignore_index = True)\n",
    "'''\n",
    "df_mb = pd.read_csv(\"/Users/vickyclayton/Google Drive/Documents/Of interest/Data Science/Bootcamp/Metis/metisgh/Class Lectures/Week 2/Mobility_Works_all.csv\")"
   ]
  },
  {
   "cell_type": "code",
   "execution_count": 34,
   "metadata": {},
   "outputs": [
    {
     "data": {
      "text/plain": [
       "Index(['Unnamed: 0', 'Color', 'Conv Make', 'Conversion', 'Conversion Make',\n",
       "       'Conversion Model', 'Engine Size', 'Entry Location', 'Entry Operation',\n",
       "       'Entry Type', 'Exterior Color', 'Interior Color', 'Location',\n",
       "       'MPG (City/Hwy)', 'Make', 'Mileage', 'Model', 'Price', 'Stock', 'Trim',\n",
       "       'Type', 'URL', 'VIN', 'Year', 'images'],\n",
       "      dtype='object')"
      ]
     },
     "execution_count": 34,
     "metadata": {},
     "output_type": "execute_result"
    }
   ],
   "source": [
    "df_mb.columns"
   ]
  },
  {
   "cell_type": "markdown",
   "metadata": {},
   "source": [
    "I make sure the names correspond to the Craigs List data."
   ]
  },
  {
   "cell_type": "code",
   "execution_count": 35,
   "metadata": {
    "collapsed": true
   },
   "outputs": [],
   "source": [
    "df_mb = (df_mb.rename(index = str, \n",
    "                      columns={'Mileage': 'mileage',\n",
    "                               'Exterior Color': 'paint_color',\n",
    "                               'Year': 'year', \n",
    "                               'Engine Size': 'cylinder_no',\n",
    "                              'Make': 'brand',\n",
    "                              'Type': 'condition'}))"
   ]
  },
  {
   "cell_type": "code",
   "execution_count": 36,
   "metadata": {},
   "outputs": [
    {
     "data": {
      "text/plain": [
       "WHITE                      84\n",
       "SILVER                     57\n",
       "BILLET SILVER              54\n",
       "GRANITE                    44\n",
       "RED                        34\n",
       "BLACK                      33\n",
       "BLUE                       30\n",
       "BRIGHT WHITE               24\n",
       "SILVER SKY                 19\n",
       "SUPER WHITE                15\n",
       "VELVET RED                 14\n",
       "GOLD                       13\n",
       "DEEP CHERRY RED            13\n",
       "WHITE KNUCKLE              12\n",
       "GREEN                      12\n",
       "DARK CORDOVAN              11\n",
       "PREDAWN GRAY               11\n",
       "CASHMERE                   10\n",
       "SHORELINE BLUE              9\n",
       "SKY BLUE                    8\n",
       "OCTANE RED                  8\n",
       "BRILLIANT BLACK             8\n",
       "LUNAR SILVER                8\n",
       "GRAY                        7\n",
       "CRYSTAL BLACK               6\n",
       "JAZZ BLUE                   6\n",
       "CONTUSION BLUE              6\n",
       "STONE WHITE                 6\n",
       "MOLTEN SILVER               6\n",
       "WHITE DIAMOND               6\n",
       "                           ..\n",
       "TEAL                        2\n",
       "CASHMERE PEARL              2\n",
       "DARK CHARCOAL               2\n",
       "MOCHA                       2\n",
       "WHITE GOLD                  2\n",
       "DARK GRAY                   2\n",
       "RUBY RED                    2\n",
       "MAGNESIUM                   2\n",
       "IMPACT ORANGE               2\n",
       "MAXIMUM STEEL               2\n",
       "MOCHA METALLIC              2\n",
       "SMOKY TOPAZ                 2\n",
       "MODERN STEEL                1\n",
       "MAROON                      1\n",
       "SANDSTONE                   1\n",
       "STEEL GRAY                  1\n",
       "OBSIDIAN BLUE               1\n",
       "DEEP CHERRY RED CRYSTAL     1\n",
       "TRUE BLUE PEARL             1\n",
       "PURPLE                      1\n",
       "BEIGE                       1\n",
       "BRILLIANT BLACK CRYSTAL     1\n",
       "BLACK ONYX CRYSTAL          1\n",
       "SANDSTONE PEARL             1\n",
       "TAN                         1\n",
       "CYPRESS GREEN               1\n",
       "SUMMIT WHITE                1\n",
       "MAIMUM STEEL                1\n",
       "PREDAWN GRAY MICA           1\n",
       "VICTORY RED                 1\n",
       "Name: paint_color, Length: 74, dtype: int64"
      ]
     },
     "execution_count": 36,
     "metadata": {},
     "output_type": "execute_result"
    }
   ],
   "source": [
    "df_mb.paint_color.value_counts()"
   ]
  },
  {
   "cell_type": "markdown",
   "metadata": {},
   "source": [
    "I make the colours more recognisable!"
   ]
  },
  {
   "cell_type": "code",
   "execution_count": 37,
   "metadata": {
    "collapsed": true
   },
   "outputs": [],
   "source": [
    "df_mb['paint_color'].value_counts()\n",
    "colors = ['WHITE','GRAY','RED','GREEN','BLUE','GOLD','BLACK','PURPLE','ORANGE','YELLOW', 'SILVER']\n",
    "\n",
    "for color in colors:\n",
    "    df_mb['paint_color'] = df_mb['paint_color'].apply(lambda x: color if color in x else x)\n",
    "\n",
    "df_mb['paint_color'] = df_mb['paint_color'].apply(lambda x: 'GRAY' if 'GRANITE' in x else x) \n",
    "df_mb['paint_color'] = df_mb['paint_color'].apply(lambda x: 'GRAY' if 'GREY' in x else x)\n",
    "df_mb['paint_color'] = df_mb['paint_color'].apply(lambda x: 'GRAY' if 'STEEL' in x else x)  \n",
    "df_mb['paint_color'] = df_mb['paint_color'].apply(lambda x: 'RED' if 'DARK CHERRY' in x else x)\n",
    "df_mb['paint_color'] = df_mb['paint_color'].apply(lambda x: 'RED' if 'DARK CORDOVAN' in x else x)\n",
    "df_mb['paint_color'] = df_mb['paint_color'].apply(lambda x: 'CREAM' if 'PEARL' in x else x)\n",
    "df_mb['paint_color'] = df_mb['paint_color'].apply(lambda x: 'CREAM' if 'CREME' in x else x)\n",
    "df_mb['paint_color'] = df_mb['paint_color'].apply(lambda x: 'CREAM' if 'BEIGE' in x else x)\n",
    "df_mb['paint_color'] = df_mb['paint_color'].apply(lambda x: 'CREAM' if 'MOCHA' in x else x)\n",
    "df_mb['paint_color'] = df_mb['paint_color'].apply(lambda x: 'CREAM' if 'CASHMERE' in x else x)\n",
    "df_mb['paint_color'] = [x.lower() for x in df_mb['paint_color']]\n",
    "df_mb.loc[df_mb.groupby('paint_color').paint_color.transform('count').lt(10), 'paint_color'] = np.nan\n",
    "df_mb = pd.concat([df_mb, pd.get_dummies(df_mb['paint_color'])], axis=1)"
   ]
  },
  {
   "cell_type": "code",
   "execution_count": 38,
   "metadata": {},
   "outputs": [
    {
     "data": {
      "text/plain": [
       "Index(['Unnamed: 0', 'Color', 'Conv Make', 'Conversion', 'Conversion Make',\n",
       "       'Conversion Model', 'cylinder_no', 'Entry Location', 'Entry Operation',\n",
       "       'Entry Type', 'paint_color', 'Interior Color', 'Location',\n",
       "       'MPG (City/Hwy)', 'brand', 'mileage', 'Model', 'Price', 'Stock', 'Trim',\n",
       "       'condition', 'URL', 'VIN', 'year', 'images', 'black', 'blue', 'cream',\n",
       "       'gold', 'gray', 'green', 'red', 'silver', 'white'],\n",
       "      dtype='object')"
      ]
     },
     "execution_count": 38,
     "metadata": {},
     "output_type": "execute_result"
    }
   ],
   "source": [
    "df_mb.columns"
   ]
  },
  {
   "cell_type": "markdown",
   "metadata": {},
   "source": [
    "I extract brand and condition, and label all the vehicles in this dataset as accessible."
   ]
  },
  {
   "cell_type": "code",
   "execution_count": 39,
   "metadata": {
    "collapsed": true
   },
   "outputs": [],
   "source": [
    "df_mb['brand'] = [x.lower() for x in df_mb['brand']]\n",
    "df_mb = pd.concat([df_mb, pd.get_dummies(df_mb['brand'])], axis=1)"
   ]
  },
  {
   "cell_type": "code",
   "execution_count": 40,
   "metadata": {
    "collapsed": true
   },
   "outputs": [],
   "source": [
    "df_mb['condition'] = [x.lower() for x in df_mb['condition']]\n",
    "df_mb = pd.concat([df_mb, pd.get_dummies(df_mb['condition'])], axis=1)"
   ]
  },
  {
   "cell_type": "code",
   "execution_count": 41,
   "metadata": {
    "collapsed": true
   },
   "outputs": [],
   "source": [
    "# make disabled column all yeses\n",
    "df_mb['disabled'] = 1"
   ]
  },
  {
   "cell_type": "code",
   "execution_count": 42,
   "metadata": {},
   "outputs": [
    {
     "data": {
      "text/plain": [
       "0              Saginaw MI 48609\n",
       "1           Plainfield IL 60585\n",
       "2          Chattanooga TN 37421\n",
       "3           Sacramento CA 95827\n",
       "4              La Mesa CA 91942\n",
       "5                 Waco TX 76710\n",
       "6               Toledo OH 43612\n",
       "7          Tallahassee FL 32303\n",
       "8      Madison Heights MI 48071\n",
       "9             Van Nuys CA 91405\n",
       "10          Burlingame CA 94010\n",
       "11         Chattanooga TN 37421\n",
       "12            Mesquite TX 75150\n",
       "13     Madison Heights MI 48071\n",
       "14           La Vergne TN 37086\n",
       "15                Waco TX 76710\n",
       "16            Van Nuys CA 91405\n",
       "17               Selma TX 78154\n",
       "18            Mesquite TX 75150\n",
       "19              Fresno CA 93701\n",
       "20              Toledo OH 43612\n",
       "21            Bessemer AL 35022\n",
       "22            Waukesha WI 53186\n",
       "23            Van Nuys CA 91405\n",
       "24         Santa Clara CA 95054\n",
       "25           Riverside CA 92504\n",
       "26               Selma TX 78154\n",
       "27         San Antonio TX 78249\n",
       "28                Buda TX 78610\n",
       "29          Sacramento CA 95827\n",
       "                 ...           \n",
       "635         Cincinnati OH 45246\n",
       "636            Oakland CA 94606\n",
       "637          La Vergne TN 37086\n",
       "638         Fort Worth TX 76111\n",
       "639           Gallatin TN 37066\n",
       "640           Marietta GA 30066\n",
       "641         Huntsville AL 35811\n",
       "642          Riverside CA 92504\n",
       "643           Marietta GA 30066\n",
       "644           Van Nuys CA 91405\n",
       "645           Mesquite TX 75150\n",
       "646         Cincinnati OH 45246\n",
       "647         Fort Worth TX 76111\n",
       "648         Sacramento CA 95827\n",
       "649              Akron OH 44310\n",
       "650         Cincinnati OH 45246\n",
       "651          La Vergne TN 37086\n",
       "652           Bessemer AL 35022\n",
       "653         Villa Park IL 60181\n",
       "654           Mesquite TX 75150\n",
       "655    Madison Heights MI 48071\n",
       "656         Plainfield IL 60585\n",
       "657          La Vergne TN 37086\n",
       "658               Buda TX 78610\n",
       "659         Fort Worth TX 76111\n",
       "660           Waukesha WI 53186\n",
       "661    Madison Heights MI 48071\n",
       "662             Toledo OH 43612\n",
       "663    Madison Heights MI 48071\n",
       "664            Oakland CA 94606\n",
       "Name: Location, Length: 665, dtype: object"
      ]
     },
     "execution_count": 42,
     "metadata": {},
     "output_type": "execute_result"
    }
   ],
   "source": [
    "df_mb['Location']"
   ]
  },
  {
   "cell_type": "markdown",
   "metadata": {},
   "source": [
    "I extract the city to control for location."
   ]
  },
  {
   "cell_type": "code",
   "execution_count": 43,
   "metadata": {},
   "outputs": [
    {
     "data": {
      "text/plain": [
       "Akron                35\n",
       "Niles                34\n",
       "Villa Park           31\n",
       "Plainfield           31\n",
       "Marietta             31\n",
       "Madison Heights      30\n",
       "Chattanooga          26\n",
       "Fort Worth           26\n",
       "Toledo               26\n",
       "Sacramento           25\n",
       "Mesquite             23\n",
       "Cincinnati           23\n",
       "Selma                23\n",
       "Buda                 22\n",
       "Waco                 22\n",
       "Atlanta              22\n",
       "La Vergne            22\n",
       "San Antonio          21\n",
       "Van Nuys             18\n",
       "Saginaw              17\n",
       "Oakland              16\n",
       "La Mesa              16\n",
       "Waukesha             15\n",
       "Huntsville           14\n",
       "Pasadena             14\n",
       "Gallatin             12\n",
       "Bessemer             12\n",
       "Santa Clara          11\n",
       "Tallahassee           9\n",
       "Fresno                9\n",
       "Riverside             9\n",
       "Las Vegas             8\n",
       "Chico                 4\n",
       "Burlingame            4\n",
       "Los Angeles           3\n",
       "Gray ME               1\n",
       "Name: city, dtype: int64"
      ]
     },
     "execution_count": 43,
     "metadata": {},
     "output_type": "execute_result"
    }
   ],
   "source": [
    "city= list(range(0,len(df_mb['Location'])))\n",
    "df_mb[['state','postcode']] = df_mb['Location'].str.extract('\\s(\\w{2})\\s([0-9]+)', expand=True)\n",
    "for x in range(0,len(df_mb['Location'])):\n",
    "    state = df_mb['state'][x]\n",
    "    city[x] = df_mb['Location'][x].replace(str(state), '')\n",
    "df_mb['city'] = city\n",
    "df_mb['city'] = df_mb['city'].str.extract('([a-zA-z ]+)', expand=True)\n",
    "df_mb['city'].value_counts()"
   ]
  },
  {
   "cell_type": "code",
   "execution_count": 44,
   "metadata": {},
   "outputs": [
    {
     "name": "stdout",
     "output_type": "stream",
     "text": [
      "grand caravan       316\n",
      "sienna              100\n",
      "pacifica             81\n",
      "odyssey              65\n",
      "town and country     54\n",
      "Name: Model, dtype: int64\n"
     ]
    }
   ],
   "source": [
    "df_mb['Model'] = [str(x).lower() for x in df_mb['Model']]\n",
    "df_mb['Model'] = [x.split(' - ')[0] for x in df_mb['Model']]\n",
    "df_mb.loc[df_mb.groupby('Model').Model.transform('count').lt(50), 'Model'] = np.nan  \n",
    "df_mb = pd.concat([df_mb, pd.get_dummies(df_mb['Model'])], axis=1)\n",
    "print(df_mb['Model'].value_counts())"
   ]
  },
  {
   "cell_type": "code",
   "execution_count": 45,
   "metadata": {
    "collapsed": true
   },
   "outputs": [],
   "source": [
    "df_mb.drop('Unnamed: 0', axis=1, inplace = True)"
   ]
  },
  {
   "cell_type": "code",
   "execution_count": 46,
   "metadata": {},
   "outputs": [
    {
     "data": {
      "text/plain": [
       "Index(['Color', 'Conv Make', 'Conversion', 'Conversion Make',\n",
       "       'Conversion Model', 'cylinder_no', 'Entry Location', 'Entry Operation',\n",
       "       'Entry Type', 'paint_color', 'Interior Color', 'Location',\n",
       "       'MPG (City/Hwy)', 'brand', 'mileage', 'Model', 'Price', 'Stock', 'Trim',\n",
       "       'condition', 'URL', 'VIN', 'year', 'images', 'black', 'blue', 'cream',\n",
       "       'gold', 'gray', 'green', 'red', 'silver', 'white', 'chevrolet',\n",
       "       'chrysler', 'dodge', 'ford', 'honda', 'mercedes-benz',\n",
       "       'mobility ventures', 'pontiac', 'ram', 'toyota', 'new', 'new/used',\n",
       "       'used', 'disabled', 'state', 'postcode', 'city', 'grand caravan',\n",
       "       'odyssey', 'pacifica', 'sienna', 'town and country'],\n",
       "      dtype='object')"
      ]
     },
     "execution_count": 46,
     "metadata": {},
     "output_type": "execute_result"
    }
   ],
   "source": [
    "df_mb.columns"
   ]
  },
  {
   "cell_type": "markdown",
   "metadata": {},
   "source": [
    "Since there is limited variation in the title of the listing, I use the URL as a unique identifier. "
   ]
  },
  {
   "cell_type": "code",
   "execution_count": 47,
   "metadata": {},
   "outputs": [
    {
     "data": {
      "text/html": [
       "<div>\n",
       "<style scoped>\n",
       "    .dataframe tbody tr th:only-of-type {\n",
       "        vertical-align: middle;\n",
       "    }\n",
       "\n",
       "    .dataframe tbody tr th {\n",
       "        vertical-align: top;\n",
       "    }\n",
       "\n",
       "    .dataframe thead th {\n",
       "        text-align: right;\n",
       "    }\n",
       "</style>\n",
       "<table border=\"1\" class=\"dataframe\">\n",
       "  <thead>\n",
       "    <tr style=\"text-align: right;\">\n",
       "      <th></th>\n",
       "      <th>Color</th>\n",
       "      <th>Conv Make</th>\n",
       "      <th>Conversion</th>\n",
       "      <th>Conversion Make</th>\n",
       "      <th>Conversion Model</th>\n",
       "      <th>cylinder_no</th>\n",
       "      <th>Entry Location</th>\n",
       "      <th>Entry Operation</th>\n",
       "      <th>Entry Type</th>\n",
       "      <th>paint_color</th>\n",
       "      <th>...</th>\n",
       "      <th>used</th>\n",
       "      <th>disabled</th>\n",
       "      <th>state</th>\n",
       "      <th>postcode</th>\n",
       "      <th>city</th>\n",
       "      <th>grand caravan</th>\n",
       "      <th>odyssey</th>\n",
       "      <th>pacifica</th>\n",
       "      <th>sienna</th>\n",
       "      <th>town and country</th>\n",
       "    </tr>\n",
       "    <tr>\n",
       "      <th>URL</th>\n",
       "      <th></th>\n",
       "      <th></th>\n",
       "      <th></th>\n",
       "      <th></th>\n",
       "      <th></th>\n",
       "      <th></th>\n",
       "      <th></th>\n",
       "      <th></th>\n",
       "      <th></th>\n",
       "      <th></th>\n",
       "      <th></th>\n",
       "      <th></th>\n",
       "      <th></th>\n",
       "      <th></th>\n",
       "      <th></th>\n",
       "      <th></th>\n",
       "      <th></th>\n",
       "      <th></th>\n",
       "      <th></th>\n",
       "      <th></th>\n",
       "      <th></th>\n",
       "    </tr>\n",
       "  </thead>\n",
       "  <tbody>\n",
       "    <tr>\n",
       "      <th>https://www.mobilityworks.com/wheelchair-vans-for-sale/2011-dodge-grand-caravan-braunability-2d4rn3dg9br646408/</th>\n",
       "      <td>NaN</td>\n",
       "      <td>NaN</td>\n",
       "      <td>NaN</td>\n",
       "      <td>BraunAbility</td>\n",
       "      <td>Braun XT</td>\n",
       "      <td>NaN</td>\n",
       "      <td>Side Entry</td>\n",
       "      <td>Automatic</td>\n",
       "      <td>Fold Out</td>\n",
       "      <td>red</td>\n",
       "      <td>...</td>\n",
       "      <td>1</td>\n",
       "      <td>1</td>\n",
       "      <td>MI</td>\n",
       "      <td>48609</td>\n",
       "      <td>Saginaw</td>\n",
       "      <td>1</td>\n",
       "      <td>0</td>\n",
       "      <td>0</td>\n",
       "      <td>0</td>\n",
       "      <td>0</td>\n",
       "    </tr>\n",
       "    <tr>\n",
       "      <th>https://www.mobilityworks.com/wheelchair-vans-for-sale/2011-honda-odyssey-vmi-5fnrl5h41bb063602-2/#vehiclebadgedetail</th>\n",
       "      <td>NaN</td>\n",
       "      <td>NaN</td>\n",
       "      <td>NaN</td>\n",
       "      <td>VMI</td>\n",
       "      <td>VMI Northstar</td>\n",
       "      <td>NaN</td>\n",
       "      <td>Side Entry</td>\n",
       "      <td>Automatic</td>\n",
       "      <td>In Floor</td>\n",
       "      <td>red</td>\n",
       "      <td>...</td>\n",
       "      <td>1</td>\n",
       "      <td>1</td>\n",
       "      <td>IL</td>\n",
       "      <td>60585</td>\n",
       "      <td>Plainfield</td>\n",
       "      <td>0</td>\n",
       "      <td>1</td>\n",
       "      <td>0</td>\n",
       "      <td>0</td>\n",
       "      <td>0</td>\n",
       "    </tr>\n",
       "    <tr>\n",
       "      <th>https://www.mobilityworks.com/wheelchair-vans-for-sale/2011-honda-odyssey-vmi-5fnrl5h63bb053767/</th>\n",
       "      <td>NaN</td>\n",
       "      <td>NaN</td>\n",
       "      <td>NaN</td>\n",
       "      <td>VMI</td>\n",
       "      <td>VMI Northstar</td>\n",
       "      <td>NaN</td>\n",
       "      <td>Side Entry</td>\n",
       "      <td>Automatic</td>\n",
       "      <td>In Floor</td>\n",
       "      <td>cream</td>\n",
       "      <td>...</td>\n",
       "      <td>1</td>\n",
       "      <td>1</td>\n",
       "      <td>TN</td>\n",
       "      <td>37421</td>\n",
       "      <td>Chattanooga</td>\n",
       "      <td>0</td>\n",
       "      <td>1</td>\n",
       "      <td>0</td>\n",
       "      <td>0</td>\n",
       "      <td>0</td>\n",
       "    </tr>\n",
       "    <tr>\n",
       "      <th>https://www.mobilityworks.com/wheelchair-vans-for-sale/2006-chrysler-town-and-country-vmi-2a4gp44r06r615408/</th>\n",
       "      <td>NaN</td>\n",
       "      <td>NaN</td>\n",
       "      <td>NaN</td>\n",
       "      <td>VMI</td>\n",
       "      <td>VMI Northstar</td>\n",
       "      <td>NaN</td>\n",
       "      <td>Side Entry</td>\n",
       "      <td>Automatic</td>\n",
       "      <td>In Floor</td>\n",
       "      <td>white</td>\n",
       "      <td>...</td>\n",
       "      <td>1</td>\n",
       "      <td>1</td>\n",
       "      <td>CA</td>\n",
       "      <td>95827</td>\n",
       "      <td>Sacramento</td>\n",
       "      <td>0</td>\n",
       "      <td>0</td>\n",
       "      <td>0</td>\n",
       "      <td>0</td>\n",
       "      <td>1</td>\n",
       "    </tr>\n",
       "    <tr>\n",
       "      <th>https://www.mobilityworks.com/wheelchair-vans-for-sale/2015-toyota-sienna-vmi-5tdxk3dc5fs600212/</th>\n",
       "      <td>NaN</td>\n",
       "      <td>NaN</td>\n",
       "      <td>NaN</td>\n",
       "      <td>VMI</td>\n",
       "      <td>VMI Northstar</td>\n",
       "      <td>NaN</td>\n",
       "      <td>Side Entry</td>\n",
       "      <td>Automatic</td>\n",
       "      <td>In Floor</td>\n",
       "      <td>silver</td>\n",
       "      <td>...</td>\n",
       "      <td>1</td>\n",
       "      <td>1</td>\n",
       "      <td>CA</td>\n",
       "      <td>91942</td>\n",
       "      <td>La Mesa</td>\n",
       "      <td>0</td>\n",
       "      <td>0</td>\n",
       "      <td>0</td>\n",
       "      <td>1</td>\n",
       "      <td>0</td>\n",
       "    </tr>\n",
       "  </tbody>\n",
       "</table>\n",
       "<p>5 rows × 54 columns</p>\n",
       "</div>"
      ],
      "text/plain": [
       "                                                   Color Conv Make Conversion  \\\n",
       "URL                                                                             \n",
       "https://www.mobilityworks.com/wheelchair-vans-f...   NaN       NaN        NaN   \n",
       "https://www.mobilityworks.com/wheelchair-vans-f...   NaN       NaN        NaN   \n",
       "https://www.mobilityworks.com/wheelchair-vans-f...   NaN       NaN        NaN   \n",
       "https://www.mobilityworks.com/wheelchair-vans-f...   NaN       NaN        NaN   \n",
       "https://www.mobilityworks.com/wheelchair-vans-f...   NaN       NaN        NaN   \n",
       "\n",
       "                                                   Conversion Make  \\\n",
       "URL                                                                  \n",
       "https://www.mobilityworks.com/wheelchair-vans-f...    BraunAbility   \n",
       "https://www.mobilityworks.com/wheelchair-vans-f...             VMI   \n",
       "https://www.mobilityworks.com/wheelchair-vans-f...             VMI   \n",
       "https://www.mobilityworks.com/wheelchair-vans-f...             VMI   \n",
       "https://www.mobilityworks.com/wheelchair-vans-f...             VMI   \n",
       "\n",
       "                                                   Conversion Model  \\\n",
       "URL                                                                   \n",
       "https://www.mobilityworks.com/wheelchair-vans-f...         Braun XT   \n",
       "https://www.mobilityworks.com/wheelchair-vans-f...    VMI Northstar   \n",
       "https://www.mobilityworks.com/wheelchair-vans-f...    VMI Northstar   \n",
       "https://www.mobilityworks.com/wheelchair-vans-f...    VMI Northstar   \n",
       "https://www.mobilityworks.com/wheelchair-vans-f...    VMI Northstar   \n",
       "\n",
       "                                                    cylinder_no  \\\n",
       "URL                                                               \n",
       "https://www.mobilityworks.com/wheelchair-vans-f...          NaN   \n",
       "https://www.mobilityworks.com/wheelchair-vans-f...          NaN   \n",
       "https://www.mobilityworks.com/wheelchair-vans-f...          NaN   \n",
       "https://www.mobilityworks.com/wheelchair-vans-f...          NaN   \n",
       "https://www.mobilityworks.com/wheelchair-vans-f...          NaN   \n",
       "\n",
       "                                                   Entry Location  \\\n",
       "URL                                                                 \n",
       "https://www.mobilityworks.com/wheelchair-vans-f...     Side Entry   \n",
       "https://www.mobilityworks.com/wheelchair-vans-f...     Side Entry   \n",
       "https://www.mobilityworks.com/wheelchair-vans-f...     Side Entry   \n",
       "https://www.mobilityworks.com/wheelchair-vans-f...     Side Entry   \n",
       "https://www.mobilityworks.com/wheelchair-vans-f...     Side Entry   \n",
       "\n",
       "                                                   Entry Operation Entry Type  \\\n",
       "URL                                                                             \n",
       "https://www.mobilityworks.com/wheelchair-vans-f...       Automatic   Fold Out   \n",
       "https://www.mobilityworks.com/wheelchair-vans-f...       Automatic   In Floor   \n",
       "https://www.mobilityworks.com/wheelchair-vans-f...       Automatic   In Floor   \n",
       "https://www.mobilityworks.com/wheelchair-vans-f...       Automatic   In Floor   \n",
       "https://www.mobilityworks.com/wheelchair-vans-f...       Automatic   In Floor   \n",
       "\n",
       "                                                   paint_color  \\\n",
       "URL                                                              \n",
       "https://www.mobilityworks.com/wheelchair-vans-f...         red   \n",
       "https://www.mobilityworks.com/wheelchair-vans-f...         red   \n",
       "https://www.mobilityworks.com/wheelchair-vans-f...       cream   \n",
       "https://www.mobilityworks.com/wheelchair-vans-f...       white   \n",
       "https://www.mobilityworks.com/wheelchair-vans-f...      silver   \n",
       "\n",
       "                                                         ...        used  \\\n",
       "URL                                                      ...               \n",
       "https://www.mobilityworks.com/wheelchair-vans-f...       ...           1   \n",
       "https://www.mobilityworks.com/wheelchair-vans-f...       ...           1   \n",
       "https://www.mobilityworks.com/wheelchair-vans-f...       ...           1   \n",
       "https://www.mobilityworks.com/wheelchair-vans-f...       ...           1   \n",
       "https://www.mobilityworks.com/wheelchair-vans-f...       ...           1   \n",
       "\n",
       "                                                   disabled state postcode  \\\n",
       "URL                                                                          \n",
       "https://www.mobilityworks.com/wheelchair-vans-f...        1    MI    48609   \n",
       "https://www.mobilityworks.com/wheelchair-vans-f...        1    IL    60585   \n",
       "https://www.mobilityworks.com/wheelchair-vans-f...        1    TN    37421   \n",
       "https://www.mobilityworks.com/wheelchair-vans-f...        1    CA    95827   \n",
       "https://www.mobilityworks.com/wheelchair-vans-f...        1    CA    91942   \n",
       "\n",
       "                                                             city  \\\n",
       "URL                                                                 \n",
       "https://www.mobilityworks.com/wheelchair-vans-f...      Saginaw     \n",
       "https://www.mobilityworks.com/wheelchair-vans-f...   Plainfield     \n",
       "https://www.mobilityworks.com/wheelchair-vans-f...  Chattanooga     \n",
       "https://www.mobilityworks.com/wheelchair-vans-f...   Sacramento     \n",
       "https://www.mobilityworks.com/wheelchair-vans-f...      La Mesa     \n",
       "\n",
       "                                                   grand caravan  odyssey  \\\n",
       "URL                                                                         \n",
       "https://www.mobilityworks.com/wheelchair-vans-f...             1        0   \n",
       "https://www.mobilityworks.com/wheelchair-vans-f...             0        1   \n",
       "https://www.mobilityworks.com/wheelchair-vans-f...             0        1   \n",
       "https://www.mobilityworks.com/wheelchair-vans-f...             0        0   \n",
       "https://www.mobilityworks.com/wheelchair-vans-f...             0        0   \n",
       "\n",
       "                                                   pacifica sienna  \\\n",
       "URL                                                                  \n",
       "https://www.mobilityworks.com/wheelchair-vans-f...        0      0   \n",
       "https://www.mobilityworks.com/wheelchair-vans-f...        0      0   \n",
       "https://www.mobilityworks.com/wheelchair-vans-f...        0      0   \n",
       "https://www.mobilityworks.com/wheelchair-vans-f...        0      0   \n",
       "https://www.mobilityworks.com/wheelchair-vans-f...        0      1   \n",
       "\n",
       "                                                   town and country  \n",
       "URL                                                                  \n",
       "https://www.mobilityworks.com/wheelchair-vans-f...                0  \n",
       "https://www.mobilityworks.com/wheelchair-vans-f...                0  \n",
       "https://www.mobilityworks.com/wheelchair-vans-f...                0  \n",
       "https://www.mobilityworks.com/wheelchair-vans-f...                1  \n",
       "https://www.mobilityworks.com/wheelchair-vans-f...                0  \n",
       "\n",
       "[5 rows x 54 columns]"
      ]
     },
     "execution_count": 47,
     "metadata": {},
     "output_type": "execute_result"
    }
   ],
   "source": [
    "df_mb = df_mb.set_index('URL')\n",
    "df_mb.head()"
   ]
  },
  {
   "cell_type": "code",
   "execution_count": 48,
   "metadata": {
    "collapsed": true
   },
   "outputs": [],
   "source": [
    "# For Wheelable\n",
    "df_mb_w = (df_mb[['Conv Make', 'Conversion', 'Conversion Make',\n",
    "       'Conversion Model', 'cylinder_no', 'Entry Location', 'Entry Operation',\n",
    "       'Entry Type', 'paint_color', 'Interior Color',\n",
    "       'MPG (City/Hwy)', 'brand', 'mileage', 'Model', 'Price', 'Stock', 'Trim',\n",
    "       'condition', 'VIN', 'year', 'state', 'postcode', 'city']])"
   ]
  },
  {
   "cell_type": "code",
   "execution_count": 49,
   "metadata": {
    "collapsed": true
   },
   "outputs": [],
   "source": [
    "# Would require additional cleaning to model separately\n",
    "df_mb_i = (df_mb[['Color', 'Conv Make', 'Conversion', 'Conversion Make',\n",
    "       'Conversion Model', 'cylinder_no', 'Entry Location', 'Entry Operation',\n",
    "       'Entry Type', 'Interior Color',\n",
    "       'MPG (City/Hwy)', 'mileage', 'Model', 'Price', 'Stock', 'Trim',\n",
    "        'year', 'state', 'postcode', 'city']])"
   ]
  },
  {
   "cell_type": "code",
   "execution_count": 50,
   "metadata": {
    "collapsed": true
   },
   "outputs": [],
   "source": [
    "# For combining with CG\n",
    "df_mb_j = (df_mb[['cylinder_no', 'mileage', 'year', 'black', \n",
    "        'blue', 'cream', 'gold',\n",
    "       'gray', 'green', 'red', 'silver', 'white', 'chevrolet', 'chrysler',\n",
    "       'dodge', 'ford', 'honda', 'mercedes-benz', 'mobility ventures',\n",
    "       'pontiac', 'ram', 'toyota', 'new', 'new/used', 'used', 'disabled',\n",
    "       'state', 'postcode', 'city', 'grand caravan', 'odyssey', 'pacifica',\n",
    "       'sienna', 'town and country']])"
   ]
  },
  {
   "cell_type": "markdown",
   "metadata": {},
   "source": [
    " ** Merging Data Together **"
   ]
  },
  {
   "cell_type": "code",
   "execution_count": 51,
   "metadata": {
    "collapsed": true
   },
   "outputs": [],
   "source": [
    "df_cg_j = df_cg_j.set_index('URL')"
   ]
  },
  {
   "cell_type": "code",
   "execution_count": 52,
   "metadata": {
    "collapsed": true
   },
   "outputs": [],
   "source": [
    "df_cg_j.drop(['<b>2005_Prerunner_trd:', '<b>2013_Hyundai_Elantra_(Stk_#',\n",
    "       'Unnamed: 0_x', 'VIN:_<b>Ctrjjv2568'], axis=1, inplace = True)"
   ]
  },
  {
   "cell_type": "code",
   "execution_count": 53,
   "metadata": {},
   "outputs": [
    {
     "name": "stdout",
     "output_type": "stream",
     "text": [
      "<class 'pandas.core.frame.DataFrame'>\n",
      "Index: 60100 entries, https://modesto.craigslist.org/cto/d/2004-mitsubishi-diamante/6474977939.html to https://shoals.craigslist.org/cto/d/ford-150/6470103745.html\n",
      "Columns: 102 entries, VIN to vw\n",
      "dtypes: float64(7), int64(2), object(13), uint8(80)\n",
      "memory usage: 15.1+ MB\n"
     ]
    }
   ],
   "source": [
    "df_cg_j.info()"
   ]
  },
  {
   "cell_type": "markdown",
   "metadata": {},
   "source": [
    "All desired features"
   ]
  },
  {
   "cell_type": "code",
   "execution_count": 54,
   "metadata": {},
   "outputs": [
    {
     "name": "stderr",
     "output_type": "stream",
     "text": [
      "/Users/vickyclayton/anaconda3/lib/python3.6/site-packages/ipykernel_launcher.py:4: SettingWithCopyWarning: \n",
      "A value is trying to be set on a copy of a slice from a DataFrame.\n",
      "Try using .loc[row_indexer,col_indexer] = value instead\n",
      "\n",
      "See the caveats in the documentation: http://pandas.pydata.org/pandas-docs/stable/indexing.html#indexing-view-versus-copy\n",
      "  after removing the cwd from sys.path.\n"
     ]
    }
   ],
   "source": [
    "df_cg_w = (df_cg_j[['VIN', 'condition', 'type','cylinders', 'disabled', 'drive', 'fuel',\n",
    "       'mileage', 'paint_color', 'size', 'transmission','brand_company']])\n",
    "df_cg_w['URL'] = df_cg_w.index"
   ]
  },
  {
   "cell_type": "code",
   "execution_count": 55,
   "metadata": {
    "collapsed": true
   },
   "outputs": [],
   "source": [
    "# For modelling separately\n",
    "df_cg_i = (df_cg_j.drop(['URL', 'VIN', 'condition', \n",
    "            'type','cylinders', 'disabled', 'drive', 'fuel',\n",
    "           'mileage', 'paint_color', 'size', 'transmission',\n",
    "            'brand_company'],axis = 1))"
   ]
  },
  {
   "cell_type": "markdown",
   "metadata": {},
   "source": [
    "For combined modelling\n",
    "Also need to drop the dummies for the columns not in MW"
   ]
  },
  {
   "cell_type": "code",
   "execution_count": 56,
   "metadata": {},
   "outputs": [
    {
     "name": "stdout",
     "output_type": "stream",
     "text": [
      "['SUV', 'bus', 'convertible', 'coupe', 'hatchback', 'mini-van', 'offroad', 'other_left', 'pickup', 'sedan', 'truck', 'van', 'wagon', '4wd', 'fwd', 'hybrid_left', 'rwd', 'clean', 'diesel', 'electric', 'gas', 'hybrid_right', 'other_right', 'compact', 'full-size', 'mid-size', 'sub-compact', 'automatic', 'manual']\n",
      "['URL', 'VIN', 'condition', 'type', 'cylinders', 'disabled', 'drive', 'fuel', 'paint_color', 'size', 'transmission', 'SUV', 'bus', 'convertible', 'coupe', 'hatchback', 'mini-van', 'offroad', 'pickup', 'sedan', 'truck', 'van', 'wagon', '4wd', 'fwd', 'rwd', 'clean', 'diesel', 'electric', 'gas', 'compact', 'full-size', 'mid-size', 'sub-compact', 'automatic', 'manual']\n"
     ]
    }
   ],
   "source": [
    "from functools import reduce\n",
    "\n",
    "\n",
    "to_drop = ['URL', 'VIN', 'condition', \n",
    "            'type','cylinders', 'disabled', 'drive', 'fuel',\n",
    "            'paint_color', 'size', 'transmission']\n",
    "dum_list = [type_dummies, drive_dummies, fuel_dummies, size_dummies, transmission_dummies]\n",
    "dummies_list_all = reduce(lambda left,right: left.join(right, lsuffix='_left', rsuffix='_right'), dum_list)\n",
    "dummies_list = dummies_list_all.columns.values.tolist()\n",
    "print(dummies_list)\n",
    "remove_list = ['other_left', 'hybrid_left', 'hybrid_right', 'other_right']\n",
    "for rem in remove_list:\n",
    "    dummies_list_2 = dummies_list.remove(rem)\n",
    "to_drop.extend(dummies_list)\n",
    "print(to_drop)\n",
    "df_cg_c = (df_cg_j.drop(to_drop,axis = 1))"
   ]
  },
  {
   "cell_type": "code",
   "execution_count": 57,
   "metadata": {},
   "outputs": [
    {
     "name": "stdout",
     "output_type": "stream",
     "text": [
      "[('other', 2), ('hybrid', 2)]\n"
     ]
    }
   ],
   "source": [
    "from collections import Counter\n",
    "duplicates = [c for c in Counter(df_cg_j.columns).items() if c[1] > 1]\n",
    "print(duplicates)\n",
    "df_cg_j = df_cg_j.loc[:,~df_cg_j.columns.duplicated()]"
   ]
  },
  {
   "cell_type": "markdown",
   "metadata": {},
   "source": [
    "Starting with a basic model (price, mileage, year)\n",
    "\n",
    "Need to drop NAs"
   ]
  },
  {
   "cell_type": "code",
   "execution_count": 58,
   "metadata": {},
   "outputs": [
    {
     "name": "stderr",
     "output_type": "stream",
     "text": [
      "/Users/vickyclayton/anaconda3/lib/python3.6/site-packages/ipykernel_launcher.py:4: FutureWarning: \n",
      "Passing list-likes to .loc or [] with any missing label will raise\n",
      "KeyError in the future, you can use .reindex() as an alternative.\n",
      "\n",
      "See the documentation here:\n",
      "http://pandas.pydata.org/pandas-docs/stable/indexing.html#deprecate-loc-reindex-listlike\n",
      "  after removing the cwd from sys.path.\n",
      "/Users/vickyclayton/anaconda3/lib/python3.6/site-packages/pandas/core/indexing.py:1367: FutureWarning: \n",
      "Passing list-likes to .loc or [] with any missing label will raise\n",
      "KeyError in the future, you can use .reindex() as an alternative.\n",
      "\n",
      "See the documentation here:\n",
      "http://pandas.pydata.org/pandas-docs/stable/indexing.html#deprecate-loc-reindex-listlike\n",
      "  return self._getitem_tuple(key)\n"
     ]
    },
    {
     "name": "stdout",
     "output_type": "stream",
     "text": [
      "<class 'pandas.core.frame.DataFrame'>\n",
      "Index: 39775 entries, https://sfbay.craigslist.org/eby/cto/d/2004-honda-accord-5-speed-ex/6477527433.html to https://shoals.craigslist.org/cto/d/ford-150/6470103745.html\n",
      "Data columns (total 71 columns):\n",
      "Price            39775 non-null int64\n",
      "mileage          39775 non-null float64\n",
      "year             39775 non-null float64\n",
      "SUV              39775 non-null uint8\n",
      "bus              39775 non-null uint8\n",
      "mini-van         39775 non-null uint8\n",
      "offroad          39775 non-null uint8\n",
      "other            39775 non-null uint8\n",
      "pickup           39775 non-null uint8\n",
      "truck            39775 non-null uint8\n",
      "van              39775 non-null uint8\n",
      "wagon            39775 non-null uint8\n",
      "excellent        39775 non-null uint8\n",
      "fair             39775 non-null uint8\n",
      "good             39775 non-null uint8\n",
      "like_new         39775 non-null uint8\n",
      "new              39775 non-null uint8\n",
      "black            39775 non-null uint8\n",
      "blue             39775 non-null uint8\n",
      "brown            39775 non-null uint8\n",
      "green            39775 non-null uint8\n",
      "grey             39775 non-null uint8\n",
      "orange           39775 non-null uint8\n",
      "purple           39775 non-null uint8\n",
      "red              39775 non-null uint8\n",
      "silver           39775 non-null uint8\n",
      "white            39775 non-null uint8\n",
      "yellow           39775 non-null uint8\n",
      "acura            39775 non-null uint8\n",
      "audi             39775 non-null uint8\n",
      "bmw              39775 non-null uint8\n",
      "buick            39775 non-null uint8\n",
      "cadillac         39775 non-null uint8\n",
      "chevrolet        39775 non-null uint8\n",
      "chevy            39775 non-null uint8\n",
      "chrysler         39775 non-null uint8\n",
      "dodge            39775 non-null uint8\n",
      "ford             39775 non-null uint8\n",
      "gmc              39775 non-null uint8\n",
      "honda            39775 non-null uint8\n",
      "hummer           39775 non-null uint8\n",
      "hyundai          39775 non-null uint8\n",
      "infiniti         39775 non-null uint8\n",
      "international    39775 non-null uint8\n",
      "isuzu            39775 non-null uint8\n",
      "jaguar           39775 non-null uint8\n",
      "jeep             39775 non-null uint8\n",
      "kia              39775 non-null uint8\n",
      "land             39775 non-null uint8\n",
      "lexus            39775 non-null uint8\n",
      "lincoln          39775 non-null uint8\n",
      "mazda            39775 non-null uint8\n",
      "mercedes         39775 non-null uint8\n",
      "mercury          39775 non-null uint8\n",
      "mini             39775 non-null uint8\n",
      "mitsubishi       39775 non-null uint8\n",
      "nan              39775 non-null uint8\n",
      "nissan           39775 non-null uint8\n",
      "oldsmobile       39775 non-null uint8\n",
      "plymouth         39775 non-null uint8\n",
      "pontiac          39775 non-null uint8\n",
      "porsche          39775 non-null uint8\n",
      "ram              39775 non-null uint8\n",
      "saturn           39775 non-null uint8\n",
      "scion            39775 non-null uint8\n",
      "subaru           39775 non-null uint8\n",
      "suzuki           39775 non-null uint8\n",
      "toyota           39775 non-null uint8\n",
      "volkswagen       39775 non-null uint8\n",
      "volvo            39775 non-null uint8\n",
      "vw               39775 non-null uint8\n",
      "dtypes: float64(2), int64(1), uint8(68)\n",
      "memory usage: 3.8+ MB\n"
     ]
    }
   ],
   "source": [
    "df_basic = df_cg_j.loc[:,['Price','mileage','year']]\n",
    "dummies = [list(type_dummies), list(condition_dummies), list(paint_dummies), list(brand_dummies)]\n",
    "for dum in dummies:\n",
    "    df_cg_dum = df_cg_j.loc[:,dum]\n",
    "    df_basic = pd.concat([df_basic,df_cg_dum], axis = 1)\n",
    "df_basic.dropna(axis=1, how='all', inplace = True)\n",
    "df_basic.dropna(axis=0, how='any', inplace = True)\n",
    "df_basic.info()"
   ]
  },
  {
   "cell_type": "code",
   "execution_count": 59,
   "metadata": {
    "collapsed": true
   },
   "outputs": [],
   "source": [
    "df = df_basic.append(df_mb)"
   ]
  },
  {
   "cell_type": "code",
   "execution_count": 60,
   "metadata": {},
   "outputs": [
    {
     "name": "stdout",
     "output_type": "stream",
     "text": [
      "<class 'pandas.core.frame.DataFrame'>\n",
      "Index: 40440 entries, https://sfbay.craigslist.org/eby/cto/d/2004-honda-accord-5-speed-ex/6477527433.html to https://www.mobilityworks.com/wheelchair-vans-for-sale/2017-toyota-sienna-braunability-5tdkz3dc5hs883770/\n",
      "Columns: 107 entries, Color to yellow\n",
      "dtypes: float64(70), object(22), uint8(15)\n",
      "memory usage: 29.3+ MB\n"
     ]
    }
   ],
   "source": [
    "df.info()"
   ]
  },
  {
   "cell_type": "markdown",
   "metadata": {},
   "source": [
    "Only keep listings if the price is less than $500k - this seems either unreasonably high and a likely mistake or out of my price range!"
   ]
  },
  {
   "cell_type": "code",
   "execution_count": 61,
   "metadata": {},
   "outputs": [
    {
     "data": {
      "text/plain": [
       "count    39601.000000\n",
       "mean        12.011439\n",
       "std          9.358858\n",
       "min          0.000000\n",
       "25%          6.000000\n",
       "50%         11.000000\n",
       "75%         15.000000\n",
       "max        101.000000\n",
       "Name: age, dtype: float64"
      ]
     },
     "execution_count": 61,
     "metadata": {},
     "output_type": "execute_result"
    }
   ],
   "source": [
    "df.loc[df['year'].gt(2018), 'year'] = np.nan \n",
    "df[df['Price'] > 500000].index\n",
    "df = df[df['Price'] < 500000]\n",
    "#print(df[['Price','mileage']].describe())\n",
    "df[df['Price'] < 100].index\n",
    "df[df['Price'] > 200000].index\n",
    "df = df[(df['Price'] < 200000) & (df['Price'] > 100)]\n",
    "df['age'] = df['year'].apply(lambda x: 2018 - x)\n",
    "df['age'].describe()\n",
    "#print(df.describe())\n"
   ]
  },
  {
   "cell_type": "code",
   "execution_count": 62,
   "metadata": {},
   "outputs": [
    {
     "data": {
      "text/plain": [
       "<matplotlib.axes._subplots.AxesSubplot at 0x1a14036208>"
      ]
     },
     "execution_count": 62,
     "metadata": {},
     "output_type": "execute_result"
    },
    {
     "data": {
      "image/png": "[encoded data removed]",
      "text/plain": [
       "<matplotlib.figure.Figure at 0x1a14f9bbe0>"
      ]
     },
     "metadata": {},
     "output_type": "display_data"
    }
   ],
   "source": [
    "sns.heatmap(df.corr(), square=True, cmap='RdYlGn')"
   ]
  },
  {
   "cell_type": "code",
   "execution_count": 63,
   "metadata": {},
   "outputs": [
    {
     "data": {
      "text/plain": [
       "<matplotlib.axes._subplots.AxesSubplot at 0x1a14f967b8>"
      ]
     },
     "execution_count": 63,
     "metadata": {},
     "output_type": "execute_result"
    },
    {
     "data": {
      "image/png": "[encoded data removed]",
      "text/plain": [
       "<matplotlib.figure.Figure at 0x1a14096208>"
      ]
     },
     "metadata": {},
     "output_type": "display_data"
    }
   ],
   "source": [
    "import seaborn as sns\n",
    "sns.distplot(df['Price'])"
   ]
  },
  {
   "cell_type": "markdown",
   "metadata": {},
   "source": [
    "Prices are highly skewed"
   ]
  },
  {
   "cell_type": "code",
   "execution_count": 64,
   "metadata": {},
   "outputs": [
    {
     "data": {
      "text/plain": [
       "<matplotlib.axes._subplots.AxesSubplot at 0x1a140afdd8>"
      ]
     },
     "execution_count": 64,
     "metadata": {},
     "output_type": "execute_result"
    },
    {
     "data": {
      "image/png": "[encoded data removed]",
      "text/plain": [
       "<matplotlib.figure.Figure at 0x1a140ff358>"
      ]
     },
     "metadata": {},
     "output_type": "display_data"
    }
   ],
   "source": [
    "import seaborn as sns\n",
    "df.sort_values('mileage', inplace = True, ascending=False)\n",
    "df['mileage'].head(5)\n",
    "df = df[(df['mileage'] < 500000)]\n",
    "sns.distplot(df['mileage'])"
   ]
  },
  {
   "cell_type": "code",
   "execution_count": 65,
   "metadata": {},
   "outputs": [
    {
     "data": {
      "text/plain": [
       "Text(0,0.5,'Price ($)')"
      ]
     },
     "execution_count": 65,
     "metadata": {},
     "output_type": "execute_result"
    },
    {
     "data": {
      "image/png": "[encoded data removed]",
      "text/plain": [
       "<matplotlib.figure.Figure at 0x1a141754a8>"
      ]
     },
     "metadata": {},
     "output_type": "display_data"
    }
   ],
   "source": [
    "plt.scatter(df['mileage'], df['Price'], alpha=.2)\n",
    "plt.xlabel(\"Mileage\")\n",
    "plt.ylabel(\"Price ($)\")"
   ]
  },
  {
   "cell_type": "code",
   "execution_count": 68,
   "metadata": {
    "collapsed": true
   },
   "outputs": [],
   "source": [
    "# Start with a simple model\n",
    "\n",
    "X=df.loc[:,['mileage','age']]\n",
    "\n",
    "y=df['Price']"
   ]
  },
  {
   "cell_type": "code",
   "execution_count": 69,
   "metadata": {},
   "outputs": [
    {
     "name": "stdout",
     "output_type": "stream",
     "text": [
      "<class 'pandas.core.frame.DataFrame'>\n",
      "Index: 39376 entries, https://chico.craigslist.org/cto/d/2005-ford-f350/6474038382.html to https://tucson.craigslist.org/ctd/d/2002-chevrolet-silverado-1500/6474978357.html\n",
      "Data columns (total 2 columns):\n",
      "mileage    39376 non-null float64\n",
      "age        39374 non-null float64\n",
      "dtypes: float64(2)\n",
      "memory usage: 2.2+ MB\n"
     ]
    }
   ],
   "source": [
    "X.info()"
   ]
  },
  {
   "cell_type": "code",
   "execution_count": 70,
   "metadata": {
    "collapsed": true
   },
   "outputs": [],
   "source": [
    "#Split the data 70-30 train/test\n",
    "\n",
    "X_train, X_test, y_train, y_test = train_test_split(X, y, test_size=0.3,random_state=42)"
   ]
  },
  {
   "cell_type": "code",
   "execution_count": 71,
   "metadata": {},
   "outputs": [
    {
     "data": {
      "text/plain": [
       "Index(['mileage', 'age'], dtype='object')"
      ]
     },
     "execution_count": 71,
     "metadata": {},
     "output_type": "execute_result"
    }
   ],
   "source": [
    "X_train.columns"
   ]
  },
  {
   "cell_type": "markdown",
   "metadata": {},
   "source": [
    "## Base Model"
   ]
  },
  {
   "cell_type": "code",
   "execution_count": 72,
   "metadata": {
    "collapsed": true
   },
   "outputs": [],
   "source": [
    "# First let us fit only on mileage\n",
    "selected_columns_1 = ['mileage']"
   ]
  },
  {
   "cell_type": "code",
   "execution_count": 73,
   "metadata": {},
   "outputs": [
    {
     "data": {
      "text/plain": [
       "LinearRegression(copy_X=True, fit_intercept=True, n_jobs=1, normalize=False)"
      ]
     },
     "execution_count": 73,
     "metadata": {},
     "output_type": "execute_result"
    }
   ],
   "source": [
    "lr_model1 = LinearRegression()\n",
    "lr_model1.fit(X_train.loc[:,selected_columns_1],y_train)"
   ]
  },
  {
   "cell_type": "code",
   "execution_count": 74,
   "metadata": {},
   "outputs": [
    {
     "data": {
      "text/plain": [
       "(array([-0.08223139]), 21454.180867528627)"
      ]
     },
     "execution_count": 74,
     "metadata": {},
     "output_type": "execute_result"
    }
   ],
   "source": [
    "lr_model1.coef_, lr_model1.intercept_"
   ]
  },
  {
   "cell_type": "code",
   "execution_count": 75,
   "metadata": {},
   "outputs": [
    {
     "data": {
      "text/plain": [
       "Text(0,0.5,'Price ($)')"
      ]
     },
     "execution_count": 75,
     "metadata": {},
     "output_type": "execute_result"
    },
    {
     "data": {
      "image/png": "[encoded data removed]",
      "text/plain": [
       "<matplotlib.figure.Figure at 0x1a1427dc18>"
      ]
     },
     "metadata": {},
     "output_type": "display_data"
    }
   ],
   "source": [
    "plt.scatter(X_train['mileage'],y_train,alpha=.05)\n",
    "vec1 = np.linspace(0,400000,1000)\n",
    "plt.plot(vec1, lr_model1.intercept_ + lr_model1.coef_[0]*vec1, color='g')\n",
    "plt.xlabel(\"Mileage\")\n",
    "plt.ylabel(\"Price ($)\")"
   ]
  },
  {
   "cell_type": "code",
   "execution_count": 76,
   "metadata": {
    "collapsed": true
   },
   "outputs": [],
   "source": [
    "### Get the predictions on the training set\n",
    "train_set_pred1 = lr_model1.predict(X_train.loc[:,selected_columns_1])"
   ]
  },
  {
   "cell_type": "code",
   "execution_count": 77,
   "metadata": {
    "collapsed": true
   },
   "outputs": [],
   "source": [
    "### Get the predictions on the test set\n",
    "test_set_pred1 = lr_model1.predict(X_test.loc[:,selected_columns_1])"
   ]
  },
  {
   "cell_type": "code",
   "execution_count": 78,
   "metadata": {},
   "outputs": [
    {
     "data": {
      "text/plain": [
       "Text(0,0.5,'Price ($)')"
      ]
     },
     "execution_count": 78,
     "metadata": {},
     "output_type": "execute_result"
    },
    {
     "data": {
      "image/png": "[encoded data removed]",
      "text/plain": [
       "<matplotlib.figure.Figure at 0x1a142abba8>"
      ]
     },
     "metadata": {},
     "output_type": "display_data"
    }
   ],
   "source": [
    "### Plot the regression line on top of the data\n",
    "\n",
    "plt.scatter(X_test['mileage'],y_test,alpha=.1)\n",
    "vec1 = np.linspace(0,400000,1000)\n",
    "plt.plot(vec1, lr_model1.intercept_ + lr_model1.coef_[0]*vec1, color = 'green')\n",
    "plt.xlabel(\"Mileage\")\n",
    "plt.ylabel(\"Price ($)\")"
   ]
  },
  {
   "cell_type": "code",
   "execution_count": 79,
   "metadata": {},
   "outputs": [
    {
     "data": {
      "text/plain": [
       "Text(0.5,1,'Model 1: Just Mileage')"
      ]
     },
     "execution_count": 79,
     "metadata": {},
     "output_type": "execute_result"
    },
    {
     "data": {
      "image/png": "[encoded data removed]",
      "text/plain": [
       "<matplotlib.figure.Figure at 0x1a142ccbe0>"
      ]
     },
     "metadata": {},
     "output_type": "display_data"
    }
   ],
   "source": [
    "## Plot predicted vs actual \n",
    "\n",
    "plt.scatter(test_set_pred1,y_test,alpha=.1)\n",
    "plt.plot(np.linspace(0,20000,100),np.linspace(0,20000,100))\n",
    "plt.xlabel(\"Predicted Price ($)\")\n",
    "plt.ylabel(\"Actual Price ($)\")\n",
    "plt.title(\"Model 1: Just Mileage\")"
   ]
  },
  {
   "cell_type": "code",
   "execution_count": 80,
   "metadata": {},
   "outputs": [
    {
     "data": {
      "text/plain": [
       "Text(0,0.5,'Residuals')"
      ]
     },
     "execution_count": 80,
     "metadata": {},
     "output_type": "execute_result"
    },
    {
     "data": {
      "image/png": "[encoded data removed]",
      "text/plain": [
       "<matplotlib.figure.Figure at 0x1a14575588>"
      ]
     },
     "metadata": {},
     "output_type": "display_data"
    }
   ],
   "source": [
    "## Residual Plot\n",
    "## Plot predicted vs actual \n",
    "\n",
    "plt.scatter(y_test,y_test-test_set_pred1,alpha=.1)\n",
    "plt.plot(np.linspace(0,400000,1000),np.linspace(0,0,1000))\n",
    "plt.xlabel(\"Actual Price ($)\")\n",
    "plt.ylabel(\"Residuals\")"
   ]
  },
  {
   "cell_type": "code",
   "execution_count": 81,
   "metadata": {},
   "outputs": [
    {
     "name": "stdout",
     "output_type": "stream",
     "text": [
      "RMSE: 10953.729112124915\n"
     ]
    },
    {
     "data": {
      "text/plain": [
       "12590.463607273467"
      ]
     },
     "execution_count": 81,
     "metadata": {},
     "output_type": "execute_result"
    }
   ],
   "source": [
    "# How good is our model on the test set?\n",
    "\n",
    "# Root Mean Square Error\n",
    "print(\"RMSE:\", np.sqrt(np.mean((test_set_pred1 - y_test)**2)))\n",
    "df['Price'].mean()"
   ]
  },
  {
   "cell_type": "code",
   "execution_count": 82,
   "metadata": {},
   "outputs": [
    {
     "data": {
      "text/plain": [
       "7385.829444126161"
      ]
     },
     "execution_count": 82,
     "metadata": {},
     "output_type": "execute_result"
    }
   ],
   "source": [
    "# Mean Absolute Deviation\n",
    "(np.mean(np.abs(test_set_pred1 - y_test)))"
   ]
  },
  {
   "cell_type": "code",
   "execution_count": 83,
   "metadata": {
    "collapsed": true
   },
   "outputs": [],
   "source": [
    "from sklearn.metrics import mean_absolute_error, mean_squared_error"
   ]
  },
  {
   "cell_type": "code",
   "execution_count": 84,
   "metadata": {},
   "outputs": [
    {
     "data": {
      "text/plain": [
       "(10953.72911212494, 7385.829444126161)"
      ]
     },
     "execution_count": 84,
     "metadata": {},
     "output_type": "execute_result"
    }
   ],
   "source": [
    "np.sqrt(mean_squared_error(y_test, test_set_pred1)), mean_absolute_error(y_test,test_set_pred1)"
   ]
  },
  {
   "cell_type": "markdown",
   "metadata": {},
   "source": [
    "## Multiple Linear Regression"
   ]
  },
  {
   "cell_type": "code",
   "execution_count": null,
   "metadata": {
    "collapsed": true
   },
   "outputs": [],
   "source": [
    "selected_col = ['Price', 'age','mileage']\n",
    "selected_col.extend(list(condition_dummies))\n",
    "selected_col.extend(list(type_dummies))\n",
    "selected_col = [e for e in selected_col if e not in ('salvage', 'convertible', 'coupe', 'hatchback', 'sedan')]\n",
    "print(selected_col)\n",
    "df_2 = df[selected_col]\n",
    "df_2.info()"
   ]
  },
  {
   "cell_type": "code",
   "execution_count": null,
   "metadata": {
    "collapsed": true
   },
   "outputs": [],
   "source": [
    "df_2.dropna(axis=0, how='any', inplace = True)\n",
    "df_2.info()\n",
    "X=df_2.loc[:,['age', 'mileage', 'excellent', 'fair', 'good', 'like_new', 'new', 'SUV', 'bus', 'mini-van', 'offroad', 'other', 'pickup', 'truck', 'van', 'wagon']]\n",
    "y=df_2['Price']\n",
    "X_train, X_test, y_train, y_test = train_test_split(X, y, test_size=0.3,random_state=42)"
   ]
  },
  {
   "cell_type": "code",
   "execution_count": null,
   "metadata": {
    "collapsed": true
   },
   "outputs": [],
   "source": [
    "lr_model2 = LinearRegression()\n",
    "lr_model2.fit(X_train,y_train)"
   ]
  },
  {
   "cell_type": "code",
   "execution_count": null,
   "metadata": {
    "collapsed": true
   },
   "outputs": [],
   "source": [
    "lr_model2.coef_"
   ]
  },
  {
   "cell_type": "code",
   "execution_count": null,
   "metadata": {
    "collapsed": true
   },
   "outputs": [],
   "source": [
    "lr_model2.intercept_"
   ]
  },
  {
   "cell_type": "code",
   "execution_count": null,
   "metadata": {
    "collapsed": true
   },
   "outputs": [],
   "source": [
    "list(zip(selected_col,lr_model2.coef_))"
   ]
  },
  {
   "cell_type": "code",
   "execution_count": null,
   "metadata": {
    "collapsed": true
   },
   "outputs": [],
   "source": [
    "X.corr()"
   ]
  },
  {
   "cell_type": "code",
   "execution_count": null,
   "metadata": {
    "collapsed": true
   },
   "outputs": [],
   "source": [
    "test_set_pred2 = lr_model2.predict(X_test)"
   ]
  },
  {
   "cell_type": "code",
   "execution_count": null,
   "metadata": {
    "collapsed": true
   },
   "outputs": [],
   "source": [
    "plt.scatter(test_set_pred2,y_test,alpha=.1)\n",
    "plt.plot(np.linspace(0,100000,1000),np.linspace(0,100000,1000),color = 'green')\n",
    "plt.xlabel(\"Predicted Price ($)\")\n",
    "plt.ylabel(\"Actual Price ($)\")\n",
    "plt.title(\"Condition and Type of Vehicle Model\")"
   ]
  },
  {
   "cell_type": "code",
   "execution_count": null,
   "metadata": {
    "collapsed": true
   },
   "outputs": [],
   "source": [
    "plt.scatter(y_test, y_test-test_set_pred2,alpha=.1)\n",
    "plt.plot(np.linspace(0,600000,1000),np.linspace(0,0,1000))\n",
    "plt.xlabel(\"Actual Price ($)\")\n",
    "plt.ylabel(\"Residuals\")\n",
    "plt.title(\"Model 2: Residual Plot\")"
   ]
  },
  {
   "cell_type": "code",
   "execution_count": null,
   "metadata": {
    "collapsed": true
   },
   "outputs": [],
   "source": [
    "#RMSE\n",
    "np.sqrt(np.mean((test_set_pred2 - y_test)**2))"
   ]
  },
  {
   "cell_type": "code",
   "execution_count": null,
   "metadata": {
    "collapsed": true
   },
   "outputs": [],
   "source": [
    "#MAD\n",
    "(np.mean(np.abs(test_set_pred2 - y_test)))"
   ]
  },
  {
   "cell_type": "markdown",
   "metadata": {},
   "source": [
    "** Next, let us try using all of the variables (in the reduced selection) **"
   ]
  },
  {
   "cell_type": "code",
   "execution_count": null,
   "metadata": {
    "collapsed": true
   },
   "outputs": [],
   "source": [
    "selected_col.extend(list(paint_dummies))\n",
    "selected_col.extend(list(brand_dummies))\n",
    "\n",
    "print(selected_col)\n",
    "df_3 = df[selected_col]\n",
    "df_3.info()"
   ]
  },
  {
   "cell_type": "code",
   "execution_count": null,
   "metadata": {
    "collapsed": true
   },
   "outputs": [],
   "source": [
    "df_3.dropna(axis=0, how='any', inplace = True)\n",
    "df_3.info()\n",
    "X=df_3.loc[:, ~df_3.columns.isin(['Price','Price_log'])]\n",
    "y=df_3['Price']\n",
    "X_train, X_test, y_train, y_test = train_test_split(X, y, test_size=0.3,random_state=42)"
   ]
  },
  {
   "cell_type": "code",
   "execution_count": null,
   "metadata": {
    "collapsed": true
   },
   "outputs": [],
   "source": [
    "lr_model3 = LinearRegression()\n",
    "lr_model3.fit(X_train,y_train)"
   ]
  },
  {
   "cell_type": "code",
   "execution_count": null,
   "metadata": {
    "collapsed": true
   },
   "outputs": [],
   "source": [
    "list(zip(X_train.columns,lr_model3.coef_))"
   ]
  },
  {
   "cell_type": "code",
   "execution_count": null,
   "metadata": {
    "collapsed": true
   },
   "outputs": [],
   "source": [
    "test_set_pred3 = lr_model3.predict(X_test)"
   ]
  },
  {
   "cell_type": "code",
   "execution_count": null,
   "metadata": {
    "collapsed": true
   },
   "outputs": [],
   "source": [
    "plt.scatter(test_set_pred3,y_test,alpha=.1)\n",
    "plt.plot(np.linspace(0,40000,1000),np.linspace(0,40000,1000), color='green')\n",
    "plt.xlabel(\"Predicted Price ($)\")\n",
    "plt.ylabel(\"Actual Price ($)\")\n",
    "plt.title(\"Model 3: Condition, type, paint color and brand dummies\")"
   ]
  },
  {
   "cell_type": "code",
   "execution_count": null,
   "metadata": {
    "collapsed": true
   },
   "outputs": [],
   "source": [
    "plt.scatter(y_test,y_test-test_set_pred3,alpha=.1)\n",
    "plt.plot(np.linspace(0,600000,1000),np.linspace(0,0,1000))\n",
    "plt.xlabel(\"Actual Price ($)\")\n",
    "plt.ylabel(\"Residuals\")\n",
    "plt.title(\"Model 3: Residual Plot\")"
   ]
  },
  {
   "cell_type": "code",
   "execution_count": null,
   "metadata": {
    "collapsed": true
   },
   "outputs": [],
   "source": [
    "#RMSE\n",
    "np.sqrt(np.mean((test_set_pred3 - y_test)**2))"
   ]
  },
  {
   "cell_type": "code",
   "execution_count": null,
   "metadata": {
    "collapsed": true
   },
   "outputs": [],
   "source": [
    "#MAD\n",
    "(np.mean(np.abs(test_set_pred3 - y_test)))"
   ]
  },
  {
   "cell_type": "code",
   "execution_count": null,
   "metadata": {
    "collapsed": true
   },
   "outputs": [],
   "source": [
    "print(list(X))"
   ]
  },
  {
   "cell_type": "code",
   "execution_count": null,
   "metadata": {
    "collapsed": true
   },
   "outputs": [],
   "source": [
    "import statsmodels.api as sm\n",
    "import statsmodels.formula.api as smf \n",
    "model = sm.OLS(y,sm.add_constant(X))\n",
    "results = model.fit()\n",
    "\n",
    "results.summary()"
   ]
  },
  {
   "cell_type": "code",
   "execution_count": null,
   "metadata": {
    "collapsed": true
   },
   "outputs": [],
   "source": [
    "df['Price_log'] = df['Price'].apply(lambda x: math.log(x,10))\n",
    "print(df['Price_log'].head())\n",
    "price_log = ['Price_log']\n",
    "selected_col.extend(price_log)\n",
    "print(selected_col)"
   ]
  },
  {
   "cell_type": "code",
   "execution_count": null,
   "metadata": {
    "collapsed": true
   },
   "outputs": [],
   "source": [
    "df_4 = df[selected_col]"
   ]
  },
  {
   "cell_type": "code",
   "execution_count": null,
   "metadata": {
    "collapsed": true
   },
   "outputs": [],
   "source": [
    "df_4.dropna(axis=0, how='any', inplace = True)\n",
    "df_4.info()\n",
    "X=df_4.loc[:, ~df_4.columns.isin(['Price', 'Price_log'])]\n",
    "y=df_4['Price_log']\n",
    "X_train, X_test, y_train, y_test = train_test_split(X, y, test_size=0.3,random_state=42)"
   ]
  },
  {
   "cell_type": "code",
   "execution_count": null,
   "metadata": {
    "collapsed": true
   },
   "outputs": [],
   "source": [
    "lr_model4 = LinearRegression()\n",
    "lr_model4.fit(X_train,y_train)"
   ]
  },
  {
   "cell_type": "code",
   "execution_count": null,
   "metadata": {
    "collapsed": true
   },
   "outputs": [],
   "source": [
    "list(zip(X_train.columns,lr_model4.coef_))"
   ]
  },
  {
   "cell_type": "code",
   "execution_count": null,
   "metadata": {
    "collapsed": true
   },
   "outputs": [],
   "source": [
    "test_set_pred4 = lr_model4.predict(X_test)"
   ]
  },
  {
   "cell_type": "code",
   "execution_count": null,
   "metadata": {
    "collapsed": true
   },
   "outputs": [],
   "source": [
    "plt.scatter(test_set_pred4,y_test,alpha=.1)\n",
    "plt.plot(np.linspace(0,20,2),np.linspace(0,20,2), color='green')\n",
    "plt.xlabel(\"Predicted log Price ($)\")\n",
    "plt.ylabel(\"Actual log Price ($)\")\n",
    "plt.title(\"Model 4: Condition, type, paint color and brand dummies to predict log Price\")"
   ]
  },
  {
   "cell_type": "code",
   "execution_count": null,
   "metadata": {
    "collapsed": true
   },
   "outputs": [],
   "source": [
    "plt.scatter(y_test,y_test-test_set_pred4,alpha=.1)\n",
    "plt.plot(np.linspace(0,20,2),np.linspace(0,0,2))\n",
    "plt.xlabel(\"Actual log Price ($)\")\n",
    "plt.ylabel(\"Residuals\")\n",
    "plt.title(\"Model 4: Residual Plot\")"
   ]
  },
  {
   "cell_type": "code",
   "execution_count": null,
   "metadata": {
    "collapsed": true
   },
   "outputs": [],
   "source": [
    "np.sqrt(np.mean((test_set_pred4 - y_test)**2))"
   ]
  },
  {
   "cell_type": "markdown",
   "metadata": {},
   "source": [
    "### Adding squared terms\n"
   ]
  },
  {
   "cell_type": "code",
   "execution_count": null,
   "metadata": {
    "collapsed": true
   },
   "outputs": [],
   "source": [
    "from sklearn.preprocessing import PolynomialFeatures\n",
    "\n",
    "def RMSE(actual, predicted):\n",
    "    return np.sqrt(mean_squared_error(actual,predicted))\n",
    "\n",
    "poly = PolynomialFeatures(degree=2)\n",
    "lm = LinearRegression()\n",
    "lm.fit(poly.fit_transform(X_train), y_train)\n",
    "print('OLS regression with polnomial terms val R^2: %.3f' % lm.score(poly.transform(X_test), y_test))\n",
    "print('OLS regression with polynomial terms val RMSE: %.3f' \n",
    "      % RMSE(lm.predict(poly.fit_transform(X_test)), y_test))"
   ]
  },
  {
   "cell_type": "markdown",
   "metadata": {},
   "source": [
    "** Regularisation **"
   ]
  },
  {
   "cell_type": "code",
   "execution_count": null,
   "metadata": {
    "collapsed": true
   },
   "outputs": [],
   "source": [
    "from sklearn.linear_model import Lasso, Ridge, LassoCV, RidgeCV"
   ]
  },
  {
   "cell_type": "code",
   "execution_count": null,
   "metadata": {
    "collapsed": true
   },
   "outputs": [],
   "source": [
    "from sklearn.pipeline import Pipeline\n",
    "from sklearn.preprocessing import StandardScaler\n",
    "std = StandardScaler()\n",
    "X_tr = std.fit_transform(poly.fit_transform(X_train))\n",
    "X_te = std.transform(poly.transform(X_test))"
   ]
  },
  {
   "cell_type": "code",
   "execution_count": null,
   "metadata": {
    "collapsed": true
   },
   "outputs": [],
   "source": [
    "lr_model5 = Lasso(alpha = 100)\n",
    "lr_model5.fit(X_tr,y_train)"
   ]
  },
  {
   "cell_type": "code",
   "execution_count": null,
   "metadata": {
    "collapsed": true
   },
   "outputs": [],
   "source": [
    "# Useful way to look at the coefficients\n",
    "# Lots of 0s\n",
    "# Easy to interpret, feature space is simplier, you don't have to choose yourself\n",
    "list(zip(pd.DataFrame(X_tr).columns,lr_model5.coef_))"
   ]
  },
  {
   "cell_type": "code",
   "execution_count": null,
   "metadata": {
    "collapsed": true
   },
   "outputs": [],
   "source": [
    "test_set_pred5 = lr_model5.predict(X_te)"
   ]
  },
  {
   "cell_type": "code",
   "execution_count": null,
   "metadata": {
    "collapsed": true
   },
   "outputs": [],
   "source": [
    "print(len(test_set_pred5))\n",
    "len(y_test)"
   ]
  },
  {
   "cell_type": "code",
   "execution_count": null,
   "metadata": {
    "collapsed": true
   },
   "outputs": [],
   "source": [
    "plt.scatter(test_set_pred5,y_test,alpha=.1)\n",
    "plt.plot(np.linspace(0,20000,100),np.linspace(0,20000,100))\n",
    "plt.xlabel(\"Predicted Price ($)\")\n",
    "plt.ylabel(\"Actual Price ($)\")\n",
    "plt.title(\"Model 5: Polynomials with Standardisation and Regularisation\")"
   ]
  },
  {
   "cell_type": "code",
   "execution_count": null,
   "metadata": {
    "collapsed": true
   },
   "outputs": [],
   "source": [
    "#RMSE\n",
    "np.sqrt(np.mean((test_set_pred5 - y_test)**2))"
   ]
  },
  {
   "cell_type": "code",
   "execution_count": null,
   "metadata": {
    "collapsed": true
   },
   "outputs": [],
   "source": []
  },
  {
   "cell_type": "markdown",
   "metadata": {
    "collapsed": true
   },
   "source": [
    "## Finding the \"best\" value of lambda (alpha) with a single train/test split"
   ]
  },
  {
   "cell_type": "code",
   "execution_count": null,
   "metadata": {
    "collapsed": true
   },
   "outputs": [],
   "source": [
    "alphalist = 10**(np.linspace(-2,2,20))\n",
    "err_vec_test = np.zeros(len(alphalist))\n",
    "err_vec_train = np.zeros(len(alphalist))\n",
    "\n",
    "for i,curr_alpha in enumerate(alphalist):\n",
    "\n",
    "    steps = [('standardize', StandardScaler()), ('lasso', Lasso(alpha = curr_alpha))]\n",
    "#    steps = [('standardize', StandardScaler()), ('ridge', Ridge(alpha = curr_alpha))]\n",
    "\n",
    "    pipe = Pipeline(steps)    \n",
    "    pipe.fit(poly.fit_transform(X_train), y_train)\n",
    "    test_set_pred7 = pipe.predict(poly.transform(X_test))\n",
    "    err_vec_test[i] = np.sqrt(np.mean((test_set_pred7 - y_test)**2))\n",
    "\n",
    "    train_set_pred7 = pipe.predict(poly.fit_transform(X_train))\n",
    "    err_vec_train[i] = np.sqrt(np.mean((train_set_pred7 - y_train)**2))"
   ]
  },
  {
   "cell_type": "code",
   "execution_count": null,
   "metadata": {
    "collapsed": true
   },
   "outputs": [],
   "source": [
    "# Find the minimum of the bias (it's 0 here which suggests that we don't want \n",
    "# regularisation and we need to make the model more complex)\n",
    "np.argmin(err_vec_test)"
   ]
  },
  {
   "cell_type": "code",
   "execution_count": null,
   "metadata": {
    "collapsed": true
   },
   "outputs": [],
   "source": [
    "#plot the curves of both the training error and test error as alpha changes\n",
    "\n",
    "plt.plot(np.log10(alphalist),err_vec_test)\n",
    "plt.plot(np.log10(alphalist),err_vec_train)\n",
    "plt.title('Test vs Training Error')\n",
    "plt.ylabel('RMSE (Price ($))')\n",
    "plt.xlabel('Lambda')\n",
    "# Looped through potential regularisation strengths and plot green as training error and \n",
    "# Blue as test error\n",
    "# This graph would suggest that regularisation isn't required as the error doesn't improve\n",
    "# when increasing the regularisation, and then it gets worse\n",
    "# You'd want to make the model more complex instead. \n"
   ]
  },
  {
   "cell_type": "code",
   "execution_count": null,
   "metadata": {
    "collapsed": true
   },
   "outputs": [],
   "source": [
    "## This is the minimum error achieved on the test set across the different alpha values we tried\n",
    "np.min(err_vec_test)"
   ]
  }
 ],
 "metadata": {
  "kernelspec": {
   "display_name": "Python 3",
   "language": "python",
   "name": "python3"
  },
  "language_info": {
   "codemirror_mode": {
    "name": "ipython",
    "version": 3
   },
   "file_extension": ".py",
   "mimetype": "text/x-python",
   "name": "python",
   "nbconvert_exporter": "python",
   "pygments_lexer": "ipython3",
   "version": "3.6.4"
  }
 },
 "nbformat": 4,
 "nbformat_minor": 1
}
